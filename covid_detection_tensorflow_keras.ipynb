{
 "cells": [
  {
   "cell_type": "code",
   "execution_count": 1,
   "metadata": {},
   "outputs": [
    {
     "name": "stderr",
     "output_type": "stream",
     "text": [
      "Using TensorFlow backend.\n"
     ]
    }
   ],
   "source": [
    "import numpy as np\n",
    "import matplotlib.pyplot as plt\n",
    "import keras\n",
    "from keras.layers import *\n",
    "from keras.models import * \n",
    "from keras.preprocessing import image\n",
    "import seaborn as sns"
   ]
  },
  {
   "cell_type": "code",
   "execution_count": 2,
   "metadata": {},
   "outputs": [],
   "source": [
    "#Defining paths\n",
    "TRAIN_PATH = \"CovidDataset/Train\"\n",
    "VAL_PATH = \"CovidDataset/Test\""
   ]
  },
  {
   "cell_type": "code",
   "execution_count": 3,
   "metadata": {},
   "outputs": [
    {
     "name": "stdout",
     "output_type": "stream",
     "text": [
      "WARNING:tensorflow:From C:\\Users\\HP\\Anaconda3\\lib\\site-packages\\tensorflow\\python\\ops\\resource_variable_ops.py:435: colocate_with (from tensorflow.python.framework.ops) is deprecated and will be removed in a future version.\n",
      "Instructions for updating:\n",
      "Colocations handled automatically by placer.\n"
     ]
    }
   ],
   "source": [
    "#Training model\n",
    "model = Sequential()\n",
    "model.add(Conv2D(32,kernel_size=(3,3),activation='relu',input_shape=(224,224,3)))\n",
    "model.add(Conv2D(128,(3,3),activation='relu'))\n",
    "model.add(MaxPooling2D(pool_size=(2,2)))\n",
    "model.add(Dropout(0.25))\n",
    "\n",
    "model.add(Conv2D(64,(3,3),activation='relu'))\n",
    "model.add(MaxPooling2D(pool_size=(2,2)))\n",
    "model.add(Dropout(0.25))\n",
    "\n",
    "model.add(Conv2D(128,(3,3),activation='relu'))\n",
    "model.add(MaxPooling2D(pool_size=(2,2)))\n",
    "model.add(Dropout(0.25))\n",
    "\n",
    "model.add(Flatten())\n",
    "model.add(Dense(64,activation='relu'))\n",
    "model.add(Dropout(0.5))\n",
    "model.add(Dense(1,activation='sigmoid'))\n",
    "\n",
    "model.compile(loss=keras.losses.binary_crossentropy,optimizer='adam',metrics=['accuracy'])"
   ]
  },
  {
   "cell_type": "code",
   "execution_count": 4,
   "metadata": {},
   "outputs": [
    {
     "name": "stdout",
     "output_type": "stream",
     "text": [
      "Model: \"sequential_1\"\n",
      "_________________________________________________________________\n",
      "Layer (type)                 Output Shape              Param #   \n",
      "=================================================================\n",
      "conv2d_1 (Conv2D)            (None, 222, 222, 32)      896       \n",
      "_________________________________________________________________\n",
      "conv2d_2 (Conv2D)            (None, 220, 220, 128)     36992     \n",
      "_________________________________________________________________\n",
      "max_pooling2d_1 (MaxPooling2 (None, 110, 110, 128)     0         \n",
      "_________________________________________________________________\n",
      "dropout_1 (Dropout)          (None, 110, 110, 128)     0         \n",
      "_________________________________________________________________\n",
      "conv2d_3 (Conv2D)            (None, 108, 108, 64)      73792     \n",
      "_________________________________________________________________\n",
      "max_pooling2d_2 (MaxPooling2 (None, 54, 54, 64)        0         \n",
      "_________________________________________________________________\n",
      "dropout_2 (Dropout)          (None, 54, 54, 64)        0         \n",
      "_________________________________________________________________\n",
      "conv2d_4 (Conv2D)            (None, 52, 52, 128)       73856     \n",
      "_________________________________________________________________\n",
      "max_pooling2d_3 (MaxPooling2 (None, 26, 26, 128)       0         \n",
      "_________________________________________________________________\n",
      "dropout_3 (Dropout)          (None, 26, 26, 128)       0         \n",
      "_________________________________________________________________\n",
      "flatten_1 (Flatten)          (None, 86528)             0         \n",
      "_________________________________________________________________\n",
      "dense_1 (Dense)              (None, 64)                5537856   \n",
      "_________________________________________________________________\n",
      "dropout_4 (Dropout)          (None, 64)                0         \n",
      "_________________________________________________________________\n",
      "dense_2 (Dense)              (None, 1)                 65        \n",
      "=================================================================\n",
      "Total params: 5,723,457\n",
      "Trainable params: 5,723,457\n",
      "Non-trainable params: 0\n",
      "_________________________________________________________________\n"
     ]
    }
   ],
   "source": [
    "#Getting parameters\n",
    "model.summary()"
   ]
  },
  {
   "cell_type": "code",
   "execution_count": 5,
   "metadata": {},
   "outputs": [],
   "source": [
    "#Moulding train images\n",
    "train_datagen = image.ImageDataGenerator(rescale = 1./255, shear_range = 0.2,zoom_range = 0.2, horizontal_flip = True)\n",
    "\n",
    "test_dataset = image.ImageDataGenerator(rescale=1./255)"
   ]
  },
  {
   "cell_type": "code",
   "execution_count": 6,
   "metadata": {},
   "outputs": [
    {
     "name": "stdout",
     "output_type": "stream",
     "text": [
      "Found 224 images belonging to 2 classes.\n",
      "Found 60 images belonging to 2 classes.\n"
     ]
    }
   ],
   "source": [
    "#Reshaping test and validation images \n",
    "train_generator = train_datagen.flow_from_directory(\n",
    "    'CovidDataset/Train',\n",
    "    target_size = (224,224),\n",
    "    batch_size = 32,\n",
    "    class_mode = 'binary')\n",
    "validation_generator = test_dataset.flow_from_directory(\n",
    "    'CovidDataset/Val',\n",
    "    target_size = (224,224),\n",
    "    batch_size = 32,\n",
    "    class_mode = 'binary')"
   ]
  },
  {
   "cell_type": "code",
   "execution_count": 7,
   "metadata": {},
   "outputs": [
    {
     "name": "stdout",
     "output_type": "stream",
     "text": [
      "WARNING:tensorflow:From C:\\Users\\HP\\Anaconda3\\lib\\site-packages\\tensorflow\\python\\ops\\math_ops.py:3066: to_int32 (from tensorflow.python.ops.math_ops) is deprecated and will be removed in a future version.\n",
      "Instructions for updating:\n",
      "Use tf.cast instead.\n",
      "Epoch 1/100\n",
      "1/1 [==============================] - 18s 18s/step - loss: 0.6770 - accuracy: 0.6250 - val_loss: 0.6465 - val_accuracy: 0.5000\n",
      "Epoch 2/100\n",
      "1/1 [==============================] - 15s 15s/step - loss: 1.0839 - accuracy: 0.7500 - val_loss: 0.8257 - val_accuracy: 0.5000\n",
      "Epoch 3/100\n",
      "1/1 [==============================] - 18s 18s/step - loss: 1.6295 - accuracy: 0.5625 - val_loss: 0.6745 - val_accuracy: 0.9375\n",
      "Epoch 4/100\n",
      "1/1 [==============================] - 18s 18s/step - loss: 0.6661 - accuracy: 0.5938 - val_loss: 0.6870 - val_accuracy: 0.4286\n",
      "Epoch 5/100\n",
      "1/1 [==============================] - 19s 19s/step - loss: 0.6078 - accuracy: 0.7500 - val_loss: 0.6741 - val_accuracy: 0.5312\n",
      "Epoch 6/100\n",
      "1/1 [==============================] - 19s 19s/step - loss: 0.7839 - accuracy: 0.5312 - val_loss: 0.6744 - val_accuracy: 0.7143\n",
      "Epoch 7/100\n",
      "1/1 [==============================] - 20s 20s/step - loss: 0.6759 - accuracy: 0.5625 - val_loss: 0.6866 - val_accuracy: 0.4375\n",
      "Epoch 8/100\n",
      "1/1 [==============================] - 19s 19s/step - loss: 0.6660 - accuracy: 0.5938 - val_loss: 0.6497 - val_accuracy: 0.5714\n",
      "Epoch 9/100\n",
      "1/1 [==============================] - 18s 18s/step - loss: 0.7065 - accuracy: 0.4688 - val_loss: 0.6502 - val_accuracy: 0.9688\n",
      "Epoch 10/100\n",
      "1/1 [==============================] - 18s 18s/step - loss: 0.6660 - accuracy: 0.6250 - val_loss: 0.6387 - val_accuracy: 0.6429\n",
      "Epoch 11/100\n",
      "1/1 [==============================] - 18s 18s/step - loss: 0.6398 - accuracy: 0.7188 - val_loss: 0.6273 - val_accuracy: 0.7188\n",
      "Epoch 12/100\n",
      "1/1 [==============================] - 18s 18s/step - loss: 0.5355 - accuracy: 0.6875 - val_loss: 0.6131 - val_accuracy: 0.7500\n",
      "Epoch 13/100\n",
      "1/1 [==============================] - 20s 20s/step - loss: 0.6108 - accuracy: 0.6875 - val_loss: 0.5803 - val_accuracy: 0.9062\n",
      "Epoch 14/100\n",
      "1/1 [==============================] - 21s 21s/step - loss: 0.4968 - accuracy: 0.7812 - val_loss: 0.5753 - val_accuracy: 0.8571\n",
      "Epoch 15/100\n",
      "1/1 [==============================] - 20s 20s/step - loss: 0.4329 - accuracy: 0.9062 - val_loss: 0.5350 - val_accuracy: 0.6250\n",
      "Epoch 16/100\n",
      "1/1 [==============================] - 20s 20s/step - loss: 0.5066 - accuracy: 0.7500 - val_loss: 0.5307 - val_accuracy: 0.7857\n",
      "Epoch 17/100\n",
      "1/1 [==============================] - 20s 20s/step - loss: 0.4162 - accuracy: 0.8125 - val_loss: 0.4322 - val_accuracy: 0.9688\n",
      "Epoch 18/100\n",
      "1/1 [==============================] - 21s 21s/step - loss: 0.3421 - accuracy: 0.8750 - val_loss: 0.4338 - val_accuracy: 0.8929\n",
      "Epoch 19/100\n",
      "1/1 [==============================] - 20s 20s/step - loss: 0.6548 - accuracy: 0.7500 - val_loss: 0.3872 - val_accuracy: 0.9375\n",
      "Epoch 20/100\n",
      "1/1 [==============================] - 19s 19s/step - loss: 0.3912 - accuracy: 0.8125 - val_loss: 0.3821 - val_accuracy: 0.9643\n",
      "Epoch 21/100\n",
      "1/1 [==============================] - 21s 21s/step - loss: 0.4470 - accuracy: 0.8438 - val_loss: 0.4389 - val_accuracy: 0.9375\n",
      "Epoch 22/100\n",
      "1/1 [==============================] - 20s 20s/step - loss: 0.3387 - accuracy: 0.9062 - val_loss: 0.4495 - val_accuracy: 0.8929\n",
      "Epoch 23/100\n",
      "1/1 [==============================] - 20s 20s/step - loss: 0.3252 - accuracy: 0.8750 - val_loss: 0.4391 - val_accuracy: 0.8438\n",
      "Epoch 24/100\n",
      "1/1 [==============================] - 19s 19s/step - loss: 0.2966 - accuracy: 0.9375 - val_loss: 0.3426 - val_accuracy: 0.9286\n",
      "Epoch 25/100\n",
      "1/1 [==============================] - 20s 20s/step - loss: 0.1779 - accuracy: 0.9375 - val_loss: 0.3284 - val_accuracy: 0.8438\n",
      "Epoch 26/100\n",
      "1/1 [==============================] - 20s 20s/step - loss: 0.3123 - accuracy: 0.8750 - val_loss: 0.2068 - val_accuracy: 0.9643\n",
      "Epoch 27/100\n",
      "1/1 [==============================] - 20s 20s/step - loss: 0.2510 - accuracy: 0.8750 - val_loss: 0.1904 - val_accuracy: 0.9688\n",
      "Epoch 28/100\n",
      "1/1 [==============================] - 21s 21s/step - loss: 0.1808 - accuracy: 0.9062 - val_loss: 0.3431 - val_accuracy: 0.9286\n",
      "Epoch 29/100\n",
      "1/1 [==============================] - 22s 22s/step - loss: 0.5001 - accuracy: 0.8438 - val_loss: 0.3560 - val_accuracy: 0.8750\n",
      "Epoch 30/100\n",
      "1/1 [==============================] - 20s 20s/step - loss: 0.3828 - accuracy: 0.8750 - val_loss: 0.3354 - val_accuracy: 1.0000\n",
      "Epoch 31/100\n",
      "1/1 [==============================] - 21s 21s/step - loss: 0.2918 - accuracy: 0.9062 - val_loss: 0.3759 - val_accuracy: 0.9375\n",
      "Epoch 32/100\n",
      "1/1 [==============================] - 21s 21s/step - loss: 0.2845 - accuracy: 0.9375 - val_loss: 0.3225 - val_accuracy: 1.0000\n",
      "Epoch 33/100\n",
      "1/1 [==============================] - 21s 21s/step - loss: 0.2088 - accuracy: 0.9375 - val_loss: 0.2971 - val_accuracy: 0.9375\n",
      "Epoch 34/100\n",
      "1/1 [==============================] - 21s 21s/step - loss: 0.1863 - accuracy: 0.9375 - val_loss: 0.2270 - val_accuracy: 0.9286\n",
      "Epoch 35/100\n",
      "1/1 [==============================] - 27s 27s/step - loss: 0.3054 - accuracy: 0.9062 - val_loss: 0.2253 - val_accuracy: 0.9375\n",
      "Epoch 36/100\n",
      "1/1 [==============================] - 25s 25s/step - loss: 0.1493 - accuracy: 0.9375 - val_loss: 0.2025 - val_accuracy: 0.8929\n",
      "Epoch 37/100\n",
      "1/1 [==============================] - 24s 24s/step - loss: 0.4031 - accuracy: 0.8125 - val_loss: 0.2364 - val_accuracy: 0.8750\n",
      "Epoch 38/100\n",
      "1/1 [==============================] - 24s 24s/step - loss: 0.3099 - accuracy: 0.8750 - val_loss: 0.1937 - val_accuracy: 0.9286\n",
      "Epoch 39/100\n",
      "1/1 [==============================] - 24s 24s/step - loss: 0.2022 - accuracy: 0.9375 - val_loss: 0.2326 - val_accuracy: 0.9375\n",
      "Epoch 40/100\n",
      "1/1 [==============================] - 24s 24s/step - loss: 0.3102 - accuracy: 0.9062 - val_loss: 0.3777 - val_accuracy: 0.9643\n",
      "Epoch 41/100\n",
      "1/1 [==============================] - 25s 25s/step - loss: 0.3466 - accuracy: 0.7812 - val_loss: 0.2336 - val_accuracy: 0.9688\n",
      "Epoch 42/100\n",
      "1/1 [==============================] - 26s 26s/step - loss: 0.1559 - accuracy: 1.0000 - val_loss: 0.1010 - val_accuracy: 1.0000\n",
      "Epoch 43/100\n",
      "1/1 [==============================] - 25s 25s/step - loss: 0.4345 - accuracy: 0.8750 - val_loss: 0.0842 - val_accuracy: 1.0000\n",
      "Epoch 44/100\n",
      "1/1 [==============================] - 25s 25s/step - loss: 0.4083 - accuracy: 0.9062 - val_loss: 0.1533 - val_accuracy: 0.9643\n",
      "Epoch 45/100\n",
      "1/1 [==============================] - 25s 25s/step - loss: 0.1459 - accuracy: 0.9062 - val_loss: 0.1314 - val_accuracy: 0.9688\n",
      "Epoch 46/100\n",
      "1/1 [==============================] - 24s 24s/step - loss: 0.1747 - accuracy: 0.9375 - val_loss: 0.1694 - val_accuracy: 1.0000\n",
      "Epoch 47/100\n",
      "1/1 [==============================] - 25s 25s/step - loss: 0.1035 - accuracy: 0.9688 - val_loss: 0.1761 - val_accuracy: 0.9688\n",
      "Epoch 48/100\n",
      "1/1 [==============================] - 25s 25s/step - loss: 0.1851 - accuracy: 0.9062 - val_loss: 0.1607 - val_accuracy: 1.0000\n",
      "Epoch 49/100\n",
      "1/1 [==============================] - 27s 27s/step - loss: 0.0959 - accuracy: 0.9688 - val_loss: 0.1875 - val_accuracy: 0.9688\n",
      "Epoch 50/100\n",
      "1/1 [==============================] - 25s 25s/step - loss: 0.1679 - accuracy: 0.9062 - val_loss: 0.1849 - val_accuracy: 1.0000\n",
      "Epoch 51/100\n",
      "1/1 [==============================] - 25s 25s/step - loss: 0.1529 - accuracy: 0.9688 - val_loss: 0.1592 - val_accuracy: 0.9688\n",
      "Epoch 52/100\n",
      "1/1 [==============================] - 25s 25s/step - loss: 0.2360 - accuracy: 0.9062 - val_loss: 0.1604 - val_accuracy: 1.0000\n",
      "Epoch 53/100\n",
      "1/1 [==============================] - 25s 25s/step - loss: 0.1028 - accuracy: 0.9688 - val_loss: 0.1686 - val_accuracy: 0.9688\n",
      "Epoch 54/100\n",
      "1/1 [==============================] - 24s 24s/step - loss: 0.0784 - accuracy: 1.0000 - val_loss: 0.0481 - val_accuracy: 1.0000\n",
      "Epoch 55/100\n",
      "1/1 [==============================] - 25s 25s/step - loss: 0.0895 - accuracy: 0.9688 - val_loss: 0.0636 - val_accuracy: 0.9688\n",
      "Epoch 56/100\n",
      "1/1 [==============================] - 26s 26s/step - loss: 0.0945 - accuracy: 0.9688 - val_loss: 0.1319 - val_accuracy: 0.9643\n",
      "Epoch 57/100\n",
      "1/1 [==============================] - 26s 26s/step - loss: 0.0545 - accuracy: 1.0000 - val_loss: 0.1884 - val_accuracy: 0.9375\n"
     ]
    },
    {
     "name": "stdout",
     "output_type": "stream",
     "text": [
      "Epoch 58/100\n",
      "1/1 [==============================] - 25s 25s/step - loss: 0.1790 - accuracy: 0.9375 - val_loss: 0.0212 - val_accuracy: 1.0000\n",
      "Epoch 59/100\n",
      "1/1 [==============================] - 369s 369s/step - loss: 0.2587 - accuracy: 0.9062 - val_loss: 0.0252 - val_accuracy: 1.0000\n",
      "Epoch 60/100\n",
      "1/1 [==============================] - 26s 26s/step - loss: 0.1942 - accuracy: 0.9375 - val_loss: 0.0595 - val_accuracy: 0.9643\n",
      "Epoch 61/100\n",
      "1/1 [==============================] - 23s 23s/step - loss: 0.5711 - accuracy: 0.9375 - val_loss: 0.0572 - val_accuracy: 0.9688\n",
      "Epoch 62/100\n",
      "1/1 [==============================] - 20s 20s/step - loss: 0.0547 - accuracy: 0.9688 - val_loss: 0.1011 - val_accuracy: 0.9643\n",
      "Epoch 63/100\n",
      "1/1 [==============================] - 26s 26s/step - loss: 0.0283 - accuracy: 1.0000 - val_loss: 0.0509 - val_accuracy: 1.0000\n",
      "Epoch 64/100\n",
      "1/1 [==============================] - 25s 25s/step - loss: 0.0513 - accuracy: 0.9688 - val_loss: 0.1007 - val_accuracy: 0.9643\n",
      "Epoch 65/100\n",
      "1/1 [==============================] - 25s 25s/step - loss: 0.0177 - accuracy: 1.0000 - val_loss: 0.1006 - val_accuracy: 0.9688\n",
      "Epoch 66/100\n",
      "1/1 [==============================] - 24s 24s/step - loss: 0.0912 - accuracy: 0.9375 - val_loss: 0.0462 - val_accuracy: 1.0000\n",
      "Epoch 67/100\n",
      "1/1 [==============================] - 25s 25s/step - loss: 0.2049 - accuracy: 0.9375 - val_loss: 0.0492 - val_accuracy: 1.0000\n",
      "Epoch 68/100\n",
      "1/1 [==============================] - 25s 25s/step - loss: 0.0945 - accuracy: 0.9688 - val_loss: 0.1191 - val_accuracy: 0.9643\n",
      "Epoch 69/100\n",
      "1/1 [==============================] - 26s 26s/step - loss: 0.0702 - accuracy: 0.9688 - val_loss: 0.1042 - val_accuracy: 0.9688\n",
      "Epoch 70/100\n",
      "1/1 [==============================] - 27s 27s/step - loss: 0.2365 - accuracy: 0.9375 - val_loss: 0.1052 - val_accuracy: 1.0000\n",
      "Epoch 71/100\n",
      "1/1 [==============================] - 28s 28s/step - loss: 0.0990 - accuracy: 0.9688 - val_loss: 0.1236 - val_accuracy: 0.9688\n",
      "Epoch 72/100\n",
      "1/1 [==============================] - 26s 26s/step - loss: 0.1478 - accuracy: 0.9688 - val_loss: 0.1369 - val_accuracy: 1.0000\n",
      "Epoch 73/100\n",
      "1/1 [==============================] - 27s 27s/step - loss: 0.2975 - accuracy: 0.9375 - val_loss: 0.1139 - val_accuracy: 0.9688\n",
      "Epoch 74/100\n",
      "1/1 [==============================] - 26s 26s/step - loss: 0.0980 - accuracy: 0.9688 - val_loss: 0.0634 - val_accuracy: 1.0000\n",
      "Epoch 75/100\n",
      "1/1 [==============================] - 26s 26s/step - loss: 0.0711 - accuracy: 1.0000 - val_loss: 0.1029 - val_accuracy: 0.9688\n",
      "Epoch 76/100\n",
      "1/1 [==============================] - 26s 26s/step - loss: 0.1249 - accuracy: 0.9375 - val_loss: 0.0578 - val_accuracy: 0.9643\n",
      "Epoch 77/100\n",
      "1/1 [==============================] - 30s 30s/step - loss: 0.1244 - accuracy: 0.9375 - val_loss: 0.0685 - val_accuracy: 1.0000\n",
      "Epoch 78/100\n",
      "1/1 [==============================] - 27s 27s/step - loss: 0.1682 - accuracy: 0.9688 - val_loss: 0.0968 - val_accuracy: 1.0000\n",
      "Epoch 79/100\n",
      "1/1 [==============================] - 26s 26s/step - loss: 0.0191 - accuracy: 1.0000 - val_loss: 0.1052 - val_accuracy: 0.9688\n",
      "Epoch 80/100\n",
      "1/1 [==============================] - 26s 26s/step - loss: 0.1401 - accuracy: 0.9375 - val_loss: 0.0899 - val_accuracy: 1.0000\n",
      "Epoch 81/100\n",
      "1/1 [==============================] - 27s 27s/step - loss: 0.0793 - accuracy: 0.9688 - val_loss: 0.1104 - val_accuracy: 1.0000\n",
      "Epoch 82/100\n",
      "1/1 [==============================] - 26s 26s/step - loss: 0.0372 - accuracy: 1.0000 - val_loss: 0.0713 - val_accuracy: 1.0000\n",
      "Epoch 83/100\n",
      "1/1 [==============================] - 27s 27s/step - loss: 0.1567 - accuracy: 0.9375 - val_loss: 0.0695 - val_accuracy: 0.9688\n",
      "Epoch 84/100\n",
      "1/1 [==============================] - 28s 28s/step - loss: 0.1752 - accuracy: 0.9688 - val_loss: 0.1039 - val_accuracy: 1.0000\n",
      "Epoch 85/100\n",
      "1/1 [==============================] - 29s 29s/step - loss: 0.0731 - accuracy: 0.9688 - val_loss: 0.0759 - val_accuracy: 1.0000\n",
      "Epoch 86/100\n",
      "1/1 [==============================] - 27s 27s/step - loss: 0.0679 - accuracy: 1.0000 - val_loss: 0.1179 - val_accuracy: 0.9643\n",
      "Epoch 87/100\n",
      "1/1 [==============================] - 28s 28s/step - loss: 0.0864 - accuracy: 0.9688 - val_loss: 0.0816 - val_accuracy: 0.9688\n",
      "Epoch 88/100\n",
      "1/1 [==============================] - 26s 26s/step - loss: 0.0658 - accuracy: 0.9688 - val_loss: 0.0426 - val_accuracy: 1.0000\n",
      "Epoch 89/100\n",
      "1/1 [==============================] - 29s 29s/step - loss: 0.3346 - accuracy: 0.9062 - val_loss: 0.0569 - val_accuracy: 0.9688\n",
      "Epoch 90/100\n",
      "1/1 [==============================] - 26s 26s/step - loss: 0.1233 - accuracy: 0.9688 - val_loss: 0.1013 - val_accuracy: 0.9643\n",
      "Epoch 91/100\n",
      "1/1 [==============================] - 30s 30s/step - loss: 0.1722 - accuracy: 0.9688 - val_loss: 0.0215 - val_accuracy: 1.0000\n",
      "Epoch 92/100\n",
      "1/1 [==============================] - 31s 31s/step - loss: 0.2644 - accuracy: 0.9062 - val_loss: 0.1667 - val_accuracy: 0.9286\n",
      "Epoch 93/100\n",
      "1/1 [==============================] - 32s 32s/step - loss: 0.0642 - accuracy: 0.9688 - val_loss: 0.0436 - val_accuracy: 1.0000\n",
      "Epoch 94/100\n",
      "1/1 [==============================] - 29s 29s/step - loss: 0.2704 - accuracy: 0.9375 - val_loss: 0.1960 - val_accuracy: 0.9286\n",
      "Epoch 95/100\n",
      "1/1 [==============================] - 32s 32s/step - loss: 0.0394 - accuracy: 1.0000 - val_loss: 0.1710 - val_accuracy: 0.9688\n",
      "Epoch 96/100\n",
      "1/1 [==============================] - 32s 32s/step - loss: 0.1990 - accuracy: 0.9062 - val_loss: 0.1538 - val_accuracy: 0.9643\n",
      "Epoch 97/100\n",
      "1/1 [==============================] - 32s 32s/step - loss: 0.0906 - accuracy: 0.9688 - val_loss: 0.1788 - val_accuracy: 0.9375\n",
      "Epoch 98/100\n",
      "1/1 [==============================] - 33s 33s/step - loss: 0.0869 - accuracy: 0.9688 - val_loss: 0.0610 - val_accuracy: 1.0000\n",
      "Epoch 99/100\n",
      "1/1 [==============================] - 34s 34s/step - loss: 0.1361 - accuracy: 0.9375 - val_loss: 0.1090 - val_accuracy: 0.9375\n",
      "Epoch 100/100\n",
      "1/1 [==============================] - 32s 32s/step - loss: 0.1930 - accuracy: 0.9375 - val_loss: 0.0789 - val_accuracy: 1.0000\n"
     ]
    }
   ],
   "source": [
    "#Training the model\n",
    "hist_new = model.fit_generator(\n",
    "    train_generator,\n",
    "    steps_per_epoch=1,\n",
    "    epochs = 100,\n",
    "    validation_data = validation_generator,\n",
    "    validation_steps=1\n",
    ")\n"
   ]
  },
  {
   "cell_type": "code",
   "execution_count": 8,
   "metadata": {},
   "outputs": [
    {
     "name": "stdout",
     "output_type": "stream",
     "text": [
      "{'val_loss': [0.6464937329292297, 0.8257222175598145, 0.6745102405548096, 0.6870107650756836, 0.6740931272506714, 0.6743651628494263, 0.6865942478179932, 0.6496978402137756, 0.6502243280410767, 0.6386764645576477, 0.6272788047790527, 0.6131327748298645, 0.5803495049476624, 0.575302004814148, 0.5350492000579834, 0.5306635499000549, 0.43220698833465576, 0.43382200598716736, 0.3872022032737732, 0.38207656145095825, 0.43886229395866394, 0.44946327805519104, 0.4391184449195862, 0.34256574511528015, 0.32839369773864746, 0.20684003829956055, 0.19043073058128357, 0.34308862686157227, 0.35598698258399963, 0.33538952469825745, 0.375871479511261, 0.3224816918373108, 0.2971422076225281, 0.2270445078611374, 0.22532138228416443, 0.20253852009773254, 0.2364283949136734, 0.19370295107364655, 0.2326039969921112, 0.37770429253578186, 0.23360919952392578, 0.10095163434743881, 0.0841512531042099, 0.15330539643764496, 0.13135038316249847, 0.16939318180084229, 0.1760837435722351, 0.16070543229579926, 0.18747639656066895, 0.18494375050067902, 0.1591872274875641, 0.16038481891155243, 0.16862982511520386, 0.04811384156346321, 0.06358665227890015, 0.1319010704755783, 0.18844521045684814, 0.02124885842204094, 0.02522580698132515, 0.05950312688946724, 0.05715465173125267, 0.10109643638134003, 0.050915274769067764, 0.10068029910326004, 0.1005876213312149, 0.046201396733522415, 0.04918413236737251, 0.11911161988973618, 0.10415684431791306, 0.10517304390668869, 0.12358953803777695, 0.13687478005886078, 0.11386124789714813, 0.06339245289564133, 0.10293219983577728, 0.05775965377688408, 0.06851422786712646, 0.0967782661318779, 0.10523638129234314, 0.0899115800857544, 0.11042804270982742, 0.07133900374174118, 0.06952797621488571, 0.10393327474594116, 0.07586293667554855, 0.1179385855793953, 0.0815931111574173, 0.04259335249662399, 0.05690847709774971, 0.10128157585859299, 0.02149767056107521, 0.16674014925956726, 0.04361141473054886, 0.1959616243839264, 0.1709853559732437, 0.15375134348869324, 0.1787821650505066, 0.06098339334130287, 0.10904977470636368, 0.07886456698179245], 'val_accuracy': [0.5, 0.5, 0.9375, 0.4285714328289032, 0.53125, 0.7142857313156128, 0.4375, 0.5714285969734192, 0.96875, 0.6428571343421936, 0.71875, 0.75, 0.90625, 0.8571428656578064, 0.625, 0.7857142686843872, 0.96875, 0.8928571343421936, 0.9375, 0.9642857313156128, 0.9375, 0.8928571343421936, 0.84375, 0.9285714030265808, 0.84375, 0.9642857313156128, 0.96875, 0.9285714030265808, 0.875, 1.0, 0.9375, 1.0, 0.9375, 0.9285714030265808, 0.9375, 0.8928571343421936, 0.875, 0.9285714030265808, 0.9375, 0.9642857313156128, 0.96875, 1.0, 1.0, 0.9642857313156128, 0.96875, 1.0, 0.96875, 1.0, 0.96875, 1.0, 0.96875, 1.0, 0.96875, 1.0, 0.96875, 0.9642857313156128, 0.9375, 1.0, 1.0, 0.9642857313156128, 0.96875, 0.9642857313156128, 1.0, 0.9642857313156128, 0.96875, 1.0, 1.0, 0.9642857313156128, 0.96875, 1.0, 0.96875, 1.0, 0.96875, 1.0, 0.96875, 0.9642857313156128, 1.0, 1.0, 0.96875, 1.0, 1.0, 1.0, 0.96875, 1.0, 1.0, 0.9642857313156128, 0.96875, 1.0, 0.96875, 0.9642857313156128, 1.0, 0.9285714030265808, 1.0, 0.9285714030265808, 0.96875, 0.9642857313156128, 0.9375, 1.0, 0.9375, 1.0], 'loss': [0.6769666075706482, 1.083940029144287, 1.629516363143921, 0.666104257106781, 0.6077962517738342, 0.7838565111160278, 0.6758826971054077, 0.6660348176956177, 0.7065092325210571, 0.6659741997718811, 0.6397513151168823, 0.535515546798706, 0.6107840538024902, 0.49676796793937683, 0.43288540840148926, 0.5065911412239075, 0.4162310063838959, 0.3420999348163605, 0.6547585129737854, 0.39123469591140747, 0.4470100700855255, 0.33871400356292725, 0.3252277374267578, 0.29664546251296997, 0.1778717190027237, 0.31227919459342957, 0.25096070766448975, 0.18084222078323364, 0.5001167058944702, 0.3828052878379822, 0.2917640805244446, 0.28448012471199036, 0.2088155299425125, 0.1863289177417755, 0.3053695559501648, 0.14934708178043365, 0.40309345722198486, 0.30990082025527954, 0.2021753489971161, 0.3102472424507141, 0.3466417193412781, 0.1558801829814911, 0.4345317780971527, 0.40827932953834534, 0.14587298035621643, 0.17466652393341064, 0.1035359799861908, 0.18508866429328918, 0.09585024416446686, 0.1679273098707199, 0.152915358543396, 0.2359844446182251, 0.10275480151176453, 0.07839080691337585, 0.08945439010858536, 0.09447534382343292, 0.054515719413757324, 0.17899362742900848, 0.25871026515960693, 0.19423069059848785, 0.5711477994918823, 0.05466296151280403, 0.02828056365251541, 0.051313988864421844, 0.017650596797466278, 0.09122200310230255, 0.2048521786928177, 0.09450361132621765, 0.07021881639957428, 0.23653016984462738, 0.09900197386741638, 0.14784270524978638, 0.29754602909088135, 0.09795913100242615, 0.07105845212936401, 0.1248936578631401, 0.1243925392627716, 0.16824668645858765, 0.019054966047406197, 0.14013151824474335, 0.07933768630027771, 0.03719346970319748, 0.15669533610343933, 0.1752457618713379, 0.07308126986026764, 0.06793703883886337, 0.08641378581523895, 0.06576666980981827, 0.3346008360385895, 0.12326563149690628, 0.1722474843263626, 0.26440155506134033, 0.06419884413480759, 0.2703707218170166, 0.0394400879740715, 0.1990409642457962, 0.0906296968460083, 0.08693859726190567, 0.1360538899898529, 0.19298526644706726], 'accuracy': [0.625, 0.75, 0.5625, 0.59375, 0.75, 0.53125, 0.5625, 0.59375, 0.46875, 0.625, 0.71875, 0.6875, 0.6875, 0.78125, 0.90625, 0.75, 0.8125, 0.875, 0.75, 0.8125, 0.84375, 0.90625, 0.875, 0.9375, 0.9375, 0.875, 0.875, 0.90625, 0.84375, 0.875, 0.90625, 0.9375, 0.9375, 0.9375, 0.90625, 0.9375, 0.8125, 0.875, 0.9375, 0.90625, 0.78125, 1.0, 0.875, 0.90625, 0.90625, 0.9375, 0.96875, 0.90625, 0.96875, 0.90625, 0.96875, 0.90625, 0.96875, 1.0, 0.96875, 0.96875, 1.0, 0.9375, 0.90625, 0.9375, 0.9375, 0.96875, 1.0, 0.96875, 1.0, 0.9375, 0.9375, 0.96875, 0.96875, 0.9375, 0.96875, 0.96875, 0.9375, 0.96875, 1.0, 0.9375, 0.9375, 0.96875, 1.0, 0.9375, 0.96875, 1.0, 0.9375, 0.96875, 0.96875, 1.0, 0.96875, 0.96875, 0.90625, 0.96875, 0.96875, 0.90625, 0.96875, 0.9375, 1.0, 0.90625, 0.96875, 0.96875, 0.9375, 0.9375]}\n"
     ]
    }
   ],
   "source": [
    "#Getting summary\n",
    "summary=hist_new.history\n",
    "print(summary)"
   ]
  },
  {
   "cell_type": "code",
   "execution_count": 9,
   "metadata": {},
   "outputs": [],
   "source": [
    "model.save(\"model_covid.h5\")"
   ]
  },
  {
   "cell_type": "code",
   "execution_count": 10,
   "metadata": {},
   "outputs": [
    {
     "data": {
      "text/plain": [
       "[0.0718597024679184, 0.9866071343421936]"
      ]
     },
     "execution_count": 10,
     "metadata": {},
     "output_type": "execute_result"
    }
   ],
   "source": [
    "model.evaluate_generator(train_generator)"
   ]
  },
  {
   "cell_type": "code",
   "execution_count": 11,
   "metadata": {},
   "outputs": [
    {
     "name": "stdout",
     "output_type": "stream",
     "text": [
      "[0.09260102361440659, 0.9833333492279053]\n"
     ]
    }
   ],
   "source": [
    "print(model.evaluate_generator(validation_generator))"
   ]
  },
  {
   "cell_type": "code",
   "execution_count": 12,
   "metadata": {},
   "outputs": [
    {
     "data": {
      "text/plain": [
       "{'Covid': 0, 'Normal': 1}"
      ]
     },
     "execution_count": 12,
     "metadata": {},
     "output_type": "execute_result"
    }
   ],
   "source": [
    "#confusion matrix\n",
    "import os\n",
    "train_generator.class_indices"
   ]
  },
  {
   "cell_type": "code",
   "execution_count": 13,
   "metadata": {},
   "outputs": [],
   "source": [
    "y_actual, y_test = [],[]"
   ]
  },
  {
   "cell_type": "code",
   "execution_count": 14,
   "metadata": {},
   "outputs": [],
   "source": [
    "for i in os.listdir(\"./CovidDataset/Val/Normal/\"):\n",
    "    img=image.load_img(\"./CovidDataset/Val/Normal/\"+i,target_size=(224,224))\n",
    "    img=image.img_to_array(img)\n",
    "    img=np.expand_dims(img,axis=0)\n",
    "    pred=model.predict_classes(img)\n",
    "    y_test.append(pred[0,0])\n",
    "    y_actual.append(1)"
   ]
  },
  {
   "cell_type": "code",
   "execution_count": 15,
   "metadata": {},
   "outputs": [],
   "source": [
    "for i in os.listdir(\"./CovidDataset/Val/Covid/\"):\n",
    "    img=image.load_img(\"./CovidDataset/Val/Covid/\"+i,target_size=(224,224))\n",
    "    img=image.img_to_array(img)\n",
    "    img=np.expand_dims(img,axis=0)\n",
    "    pred=model.predict_classes(img)\n",
    "    y_test.append(pred[0,0])\n",
    "    y_actual.append(0)"
   ]
  },
  {
   "cell_type": "code",
   "execution_count": 16,
   "metadata": {},
   "outputs": [],
   "source": [
    "y_actual=np.array(y_actual)\n",
    "y_test=np.array(y_test)"
   ]
  },
  {
   "cell_type": "code",
   "execution_count": 17,
   "metadata": {},
   "outputs": [],
   "source": [
    "from sklearn.metrics import confusion_matrix\n",
    "import seaborn as sns\n",
    "cn=confusion_matrix(y_actual,y_test)"
   ]
  },
  {
   "cell_type": "code",
   "execution_count": 18,
   "metadata": {},
   "outputs": [
    {
     "data": {
      "text/plain": [
       "<matplotlib.axes._subplots.AxesSubplot at 0x1f5801aba58>"
      ]
     },
     "execution_count": 18,
     "metadata": {},
     "output_type": "execute_result"
    },
    {
     "data": {
      "image/png": "[encoded data removed]",
      "text/plain": [
       "<Figure size 432x288 with 2 Axes>"
      ]
     },
     "metadata": {},
     "output_type": "display_data"
    }
   ],
   "source": [
    "sns.heatmap(cn,cmap=\"plasma\",annot=True) #0: Covid ; 1: Normal"
   ]
  },
  {
   "cell_type": "code",
   "execution_count": 19,
   "metadata": {},
   "outputs": [
    {
     "data": {
      "text/plain": [
       "array([1, 1, 1, 1, 1, 1, 1, 1, 1, 1, 1, 1, 1, 1, 1, 1, 1, 1, 1, 1, 1, 1,\n",
       "       1, 1, 1, 1, 1, 1, 1, 1, 0, 0, 0, 0, 0, 0, 0, 0, 0, 0, 0, 0, 0, 0,\n",
       "       0, 0, 0, 0, 0, 0, 0, 0, 0, 0, 0, 0, 0, 0, 0, 0])"
      ]
     },
     "execution_count": 19,
     "metadata": {},
     "output_type": "execute_result"
    }
   ],
   "source": [
    "y_actual"
   ]
  },
  {
   "cell_type": "code",
   "execution_count": 20,
   "metadata": {},
   "outputs": [
    {
     "data": {
      "text/plain": [
       "array([1, 1, 1, 0, 1, 1, 1, 1, 1, 1, 1, 1, 1, 1, 1, 1, 1, 1, 1, 1, 1, 1,\n",
       "       1, 1, 1, 1, 1, 1, 1, 0, 0, 0, 0, 0, 0, 0, 0, 0, 0, 0, 0, 0, 0, 0,\n",
       "       0, 0, 0, 0, 0, 0, 0, 0, 0, 0, 0, 0, 0, 0, 0, 0])"
      ]
     },
     "execution_count": 20,
     "metadata": {},
     "output_type": "execute_result"
    }
   ],
   "source": [
    "y_test"
   ]
  },
  {
   "cell_type": "code",
   "execution_count": 21,
   "metadata": {},
   "outputs": [
    {
     "data": {
      "text/plain": [
       "[0.6769666075706482,\n",
       " 1.083940029144287,\n",
       " 1.629516363143921,\n",
       " 0.666104257106781,\n",
       " 0.6077962517738342,\n",
       " 0.7838565111160278,\n",
       " 0.6758826971054077,\n",
       " 0.6660348176956177,\n",
       " 0.7065092325210571,\n",
       " 0.6659741997718811,\n",
       " 0.6397513151168823,\n",
       " 0.535515546798706,\n",
       " 0.6107840538024902,\n",
       " 0.49676796793937683,\n",
       " 0.43288540840148926,\n",
       " 0.5065911412239075,\n",
       " 0.4162310063838959,\n",
       " 0.3420999348163605,\n",
       " 0.6547585129737854,\n",
       " 0.39123469591140747,\n",
       " 0.4470100700855255,\n",
       " 0.33871400356292725,\n",
       " 0.3252277374267578,\n",
       " 0.29664546251296997,\n",
       " 0.1778717190027237,\n",
       " 0.31227919459342957,\n",
       " 0.25096070766448975,\n",
       " 0.18084222078323364,\n",
       " 0.5001167058944702,\n",
       " 0.3828052878379822,\n",
       " 0.2917640805244446,\n",
       " 0.28448012471199036,\n",
       " 0.2088155299425125,\n",
       " 0.1863289177417755,\n",
       " 0.3053695559501648,\n",
       " 0.14934708178043365,\n",
       " 0.40309345722198486,\n",
       " 0.30990082025527954,\n",
       " 0.2021753489971161,\n",
       " 0.3102472424507141,\n",
       " 0.3466417193412781,\n",
       " 0.1558801829814911,\n",
       " 0.4345317780971527,\n",
       " 0.40827932953834534,\n",
       " 0.14587298035621643,\n",
       " 0.17466652393341064,\n",
       " 0.1035359799861908,\n",
       " 0.18508866429328918,\n",
       " 0.09585024416446686,\n",
       " 0.1679273098707199,\n",
       " 0.152915358543396,\n",
       " 0.2359844446182251,\n",
       " 0.10275480151176453,\n",
       " 0.07839080691337585,\n",
       " 0.08945439010858536,\n",
       " 0.09447534382343292,\n",
       " 0.054515719413757324,\n",
       " 0.17899362742900848,\n",
       " 0.25871026515960693,\n",
       " 0.19423069059848785,\n",
       " 0.5711477994918823,\n",
       " 0.05466296151280403,\n",
       " 0.02828056365251541,\n",
       " 0.051313988864421844,\n",
       " 0.017650596797466278,\n",
       " 0.09122200310230255,\n",
       " 0.2048521786928177,\n",
       " 0.09450361132621765,\n",
       " 0.07021881639957428,\n",
       " 0.23653016984462738,\n",
       " 0.09900197386741638,\n",
       " 0.14784270524978638,\n",
       " 0.29754602909088135,\n",
       " 0.09795913100242615,\n",
       " 0.07105845212936401,\n",
       " 0.1248936578631401,\n",
       " 0.1243925392627716,\n",
       " 0.16824668645858765,\n",
       " 0.019054966047406197,\n",
       " 0.14013151824474335,\n",
       " 0.07933768630027771,\n",
       " 0.03719346970319748,\n",
       " 0.15669533610343933,\n",
       " 0.1752457618713379,\n",
       " 0.07308126986026764,\n",
       " 0.06793703883886337,\n",
       " 0.08641378581523895,\n",
       " 0.06576666980981827,\n",
       " 0.3346008360385895,\n",
       " 0.12326563149690628,\n",
       " 0.1722474843263626,\n",
       " 0.26440155506134033,\n",
       " 0.06419884413480759,\n",
       " 0.2703707218170166,\n",
       " 0.0394400879740715,\n",
       " 0.1990409642457962,\n",
       " 0.0906296968460083,\n",
       " 0.08693859726190567,\n",
       " 0.1360538899898529,\n",
       " 0.19298526644706726]"
      ]
     },
     "execution_count": 21,
     "metadata": {},
     "output_type": "execute_result"
    }
   ],
   "source": [
    "summary['loss']"
   ]
  },
  {
   "cell_type": "code",
   "execution_count": 22,
   "metadata": {},
   "outputs": [
    {
     "data": {
      "text/plain": [
       "[0.6464937329292297,\n",
       " 0.8257222175598145,\n",
       " 0.6745102405548096,\n",
       " 0.6870107650756836,\n",
       " 0.6740931272506714,\n",
       " 0.6743651628494263,\n",
       " 0.6865942478179932,\n",
       " 0.6496978402137756,\n",
       " 0.6502243280410767,\n",
       " 0.6386764645576477,\n",
       " 0.6272788047790527,\n",
       " 0.6131327748298645,\n",
       " 0.5803495049476624,\n",
       " 0.575302004814148,\n",
       " 0.5350492000579834,\n",
       " 0.5306635499000549,\n",
       " 0.43220698833465576,\n",
       " 0.43382200598716736,\n",
       " 0.3872022032737732,\n",
       " 0.38207656145095825,\n",
       " 0.43886229395866394,\n",
       " 0.44946327805519104,\n",
       " 0.4391184449195862,\n",
       " 0.34256574511528015,\n",
       " 0.32839369773864746,\n",
       " 0.20684003829956055,\n",
       " 0.19043073058128357,\n",
       " 0.34308862686157227,\n",
       " 0.35598698258399963,\n",
       " 0.33538952469825745,\n",
       " 0.375871479511261,\n",
       " 0.3224816918373108,\n",
       " 0.2971422076225281,\n",
       " 0.2270445078611374,\n",
       " 0.22532138228416443,\n",
       " 0.20253852009773254,\n",
       " 0.2364283949136734,\n",
       " 0.19370295107364655,\n",
       " 0.2326039969921112,\n",
       " 0.37770429253578186,\n",
       " 0.23360919952392578,\n",
       " 0.10095163434743881,\n",
       " 0.0841512531042099,\n",
       " 0.15330539643764496,\n",
       " 0.13135038316249847,\n",
       " 0.16939318180084229,\n",
       " 0.1760837435722351,\n",
       " 0.16070543229579926,\n",
       " 0.18747639656066895,\n",
       " 0.18494375050067902,\n",
       " 0.1591872274875641,\n",
       " 0.16038481891155243,\n",
       " 0.16862982511520386,\n",
       " 0.04811384156346321,\n",
       " 0.06358665227890015,\n",
       " 0.1319010704755783,\n",
       " 0.18844521045684814,\n",
       " 0.02124885842204094,\n",
       " 0.02522580698132515,\n",
       " 0.05950312688946724,\n",
       " 0.05715465173125267,\n",
       " 0.10109643638134003,\n",
       " 0.050915274769067764,\n",
       " 0.10068029910326004,\n",
       " 0.1005876213312149,\n",
       " 0.046201396733522415,\n",
       " 0.04918413236737251,\n",
       " 0.11911161988973618,\n",
       " 0.10415684431791306,\n",
       " 0.10517304390668869,\n",
       " 0.12358953803777695,\n",
       " 0.13687478005886078,\n",
       " 0.11386124789714813,\n",
       " 0.06339245289564133,\n",
       " 0.10293219983577728,\n",
       " 0.05775965377688408,\n",
       " 0.06851422786712646,\n",
       " 0.0967782661318779,\n",
       " 0.10523638129234314,\n",
       " 0.0899115800857544,\n",
       " 0.11042804270982742,\n",
       " 0.07133900374174118,\n",
       " 0.06952797621488571,\n",
       " 0.10393327474594116,\n",
       " 0.07586293667554855,\n",
       " 0.1179385855793953,\n",
       " 0.0815931111574173,\n",
       " 0.04259335249662399,\n",
       " 0.05690847709774971,\n",
       " 0.10128157585859299,\n",
       " 0.02149767056107521,\n",
       " 0.16674014925956726,\n",
       " 0.04361141473054886,\n",
       " 0.1959616243839264,\n",
       " 0.1709853559732437,\n",
       " 0.15375134348869324,\n",
       " 0.1787821650505066,\n",
       " 0.06098339334130287,\n",
       " 0.10904977470636368,\n",
       " 0.07886456698179245]"
      ]
     },
     "execution_count": 22,
     "metadata": {},
     "output_type": "execute_result"
    }
   ],
   "source": [
    "summary['val_loss']"
   ]
  },
  {
   "cell_type": "code",
   "execution_count": 23,
   "metadata": {},
   "outputs": [
    {
     "data": {
      "image/png": "[encoded data removed]",
      "text/plain": [
       "<Figure size 432x288 with 1 Axes>"
      ]
     },
     "metadata": {},
     "output_type": "display_data"
    }
   ],
   "source": [
    "from matplotlib import pyplot as plt\n",
    "\n",
    "plt.plot(summary['loss'],'r',label='training loss')\n",
    "plt.plot(summary['val_loss'],label='validation loss')\n",
    "plt.xlabel('# epochs')\n",
    "plt.ylabel('loss')\n",
    "plt.legend()\n",
    "plt.show()"
   ]
  },
  {
   "cell_type": "code",
   "execution_count": 24,
   "metadata": {},
   "outputs": [
    {
     "data": {
      "text/plain": [
       "[0.5,\n",
       " 0.5,\n",
       " 0.9375,\n",
       " 0.4285714328289032,\n",
       " 0.53125,\n",
       " 0.7142857313156128,\n",
       " 0.4375,\n",
       " 0.5714285969734192,\n",
       " 0.96875,\n",
       " 0.6428571343421936,\n",
       " 0.71875,\n",
       " 0.75,\n",
       " 0.90625,\n",
       " 0.8571428656578064,\n",
       " 0.625,\n",
       " 0.7857142686843872,\n",
       " 0.96875,\n",
       " 0.8928571343421936,\n",
       " 0.9375,\n",
       " 0.9642857313156128,\n",
       " 0.9375,\n",
       " 0.8928571343421936,\n",
       " 0.84375,\n",
       " 0.9285714030265808,\n",
       " 0.84375,\n",
       " 0.9642857313156128,\n",
       " 0.96875,\n",
       " 0.9285714030265808,\n",
       " 0.875,\n",
       " 1.0,\n",
       " 0.9375,\n",
       " 1.0,\n",
       " 0.9375,\n",
       " 0.9285714030265808,\n",
       " 0.9375,\n",
       " 0.8928571343421936,\n",
       " 0.875,\n",
       " 0.9285714030265808,\n",
       " 0.9375,\n",
       " 0.9642857313156128,\n",
       " 0.96875,\n",
       " 1.0,\n",
       " 1.0,\n",
       " 0.9642857313156128,\n",
       " 0.96875,\n",
       " 1.0,\n",
       " 0.96875,\n",
       " 1.0,\n",
       " 0.96875,\n",
       " 1.0,\n",
       " 0.96875,\n",
       " 1.0,\n",
       " 0.96875,\n",
       " 1.0,\n",
       " 0.96875,\n",
       " 0.9642857313156128,\n",
       " 0.9375,\n",
       " 1.0,\n",
       " 1.0,\n",
       " 0.9642857313156128,\n",
       " 0.96875,\n",
       " 0.9642857313156128,\n",
       " 1.0,\n",
       " 0.9642857313156128,\n",
       " 0.96875,\n",
       " 1.0,\n",
       " 1.0,\n",
       " 0.9642857313156128,\n",
       " 0.96875,\n",
       " 1.0,\n",
       " 0.96875,\n",
       " 1.0,\n",
       " 0.96875,\n",
       " 1.0,\n",
       " 0.96875,\n",
       " 0.9642857313156128,\n",
       " 1.0,\n",
       " 1.0,\n",
       " 0.96875,\n",
       " 1.0,\n",
       " 1.0,\n",
       " 1.0,\n",
       " 0.96875,\n",
       " 1.0,\n",
       " 1.0,\n",
       " 0.9642857313156128,\n",
       " 0.96875,\n",
       " 1.0,\n",
       " 0.96875,\n",
       " 0.9642857313156128,\n",
       " 1.0,\n",
       " 0.9285714030265808,\n",
       " 1.0,\n",
       " 0.9285714030265808,\n",
       " 0.96875,\n",
       " 0.9642857313156128,\n",
       " 0.9375,\n",
       " 1.0,\n",
       " 0.9375,\n",
       " 1.0]"
      ]
     },
     "execution_count": 24,
     "metadata": {},
     "output_type": "execute_result"
    }
   ],
   "source": [
    "summary['val_accuracy']"
   ]
  },
  {
   "cell_type": "code",
   "execution_count": 25,
   "metadata": {},
   "outputs": [
    {
     "data": {
      "text/plain": [
       "[0.625,\n",
       " 0.75,\n",
       " 0.5625,\n",
       " 0.59375,\n",
       " 0.75,\n",
       " 0.53125,\n",
       " 0.5625,\n",
       " 0.59375,\n",
       " 0.46875,\n",
       " 0.625,\n",
       " 0.71875,\n",
       " 0.6875,\n",
       " 0.6875,\n",
       " 0.78125,\n",
       " 0.90625,\n",
       " 0.75,\n",
       " 0.8125,\n",
       " 0.875,\n",
       " 0.75,\n",
       " 0.8125,\n",
       " 0.84375,\n",
       " 0.90625,\n",
       " 0.875,\n",
       " 0.9375,\n",
       " 0.9375,\n",
       " 0.875,\n",
       " 0.875,\n",
       " 0.90625,\n",
       " 0.84375,\n",
       " 0.875,\n",
       " 0.90625,\n",
       " 0.9375,\n",
       " 0.9375,\n",
       " 0.9375,\n",
       " 0.90625,\n",
       " 0.9375,\n",
       " 0.8125,\n",
       " 0.875,\n",
       " 0.9375,\n",
       " 0.90625,\n",
       " 0.78125,\n",
       " 1.0,\n",
       " 0.875,\n",
       " 0.90625,\n",
       " 0.90625,\n",
       " 0.9375,\n",
       " 0.96875,\n",
       " 0.90625,\n",
       " 0.96875,\n",
       " 0.90625,\n",
       " 0.96875,\n",
       " 0.90625,\n",
       " 0.96875,\n",
       " 1.0,\n",
       " 0.96875,\n",
       " 0.96875,\n",
       " 1.0,\n",
       " 0.9375,\n",
       " 0.90625,\n",
       " 0.9375,\n",
       " 0.9375,\n",
       " 0.96875,\n",
       " 1.0,\n",
       " 0.96875,\n",
       " 1.0,\n",
       " 0.9375,\n",
       " 0.9375,\n",
       " 0.96875,\n",
       " 0.96875,\n",
       " 0.9375,\n",
       " 0.96875,\n",
       " 0.96875,\n",
       " 0.9375,\n",
       " 0.96875,\n",
       " 1.0,\n",
       " 0.9375,\n",
       " 0.9375,\n",
       " 0.96875,\n",
       " 1.0,\n",
       " 0.9375,\n",
       " 0.96875,\n",
       " 1.0,\n",
       " 0.9375,\n",
       " 0.96875,\n",
       " 0.96875,\n",
       " 1.0,\n",
       " 0.96875,\n",
       " 0.96875,\n",
       " 0.90625,\n",
       " 0.96875,\n",
       " 0.96875,\n",
       " 0.90625,\n",
       " 0.96875,\n",
       " 0.9375,\n",
       " 1.0,\n",
       " 0.90625,\n",
       " 0.96875,\n",
       " 0.96875,\n",
       " 0.9375,\n",
       " 0.9375]"
      ]
     },
     "execution_count": 25,
     "metadata": {},
     "output_type": "execute_result"
    }
   ],
   "source": [
    "summary['accuracy']"
   ]
  },
  {
   "cell_type": "code",
   "execution_count": 26,
   "metadata": {},
   "outputs": [
    {
     "data": {
      "image/png": "[encoded data removed]",
      "text/plain": [
       "<Figure size 432x288 with 1 Axes>"
      ]
     },
     "metadata": {},
     "output_type": "display_data"
    }
   ],
   "source": [
    "plt.plot(summary['accuracy'],'r',label='training accuracy')\n",
    "plt.plot(summary['val_accuracy'],label='validation accuracy')\n",
    "plt.xlabel('# epochs')\n",
    "plt.ylabel('loss')\n",
    "plt.legend()\n",
    "plt.show()"
   ]
  },
  {
   "cell_type": "markdown",
   "metadata": {},
   "source": [
    "### thank you!!!\n",
    "from shikha"
   ]
  },
  {
   "cell_type": "code",
   "execution_count": null,
   "metadata": {},
   "outputs": [],
   "source": []
  }
 ],
 "metadata": {
  "kernelspec": {
   "display_name": "Python 3",
   "language": "python",
   "name": "python3"
  },
  "language_info": {
   "codemirror_mode": {
    "name": "ipython",
    "version": 3
   },
   "file_extension": ".py",
   "mimetype": "text/x-python",
   "name": "python",
   "nbconvert_exporter": "python",
   "pygments_lexer": "ipython3",
   "version": "3.6.5"
  }
 },
 "nbformat": 4,
 "nbformat_minor": 2
}
