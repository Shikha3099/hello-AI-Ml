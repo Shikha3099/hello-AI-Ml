{
 "cells": [
  {
   "cell_type": "markdown",
   "metadata": {},
   "source": [
    "# Preparing the Data\n",
    "1. Quality of data is important to train the model\n",
    "2. Source – Government databases, professional or company data sources(twitter), your company, etc\n",
    "3. Data will never be in the format you need – Pandas Dataframe for reformatting\n",
    "4. Columns to remove – No values, duplicate(correlated column, e.g: house size in ft and metres)\n",
    "5. Preprocessing refers to transformation before feeding to machine learning\n",
    "6. Learning algorithms understands only number, converting text image to number is required\n",
    "7. Unscaled or unstandardized data have might have unacceptable prediction\n"
   ]
  },
  {
   "cell_type": "markdown",
   "metadata": {},
   "source": [
    "## Types of Data Preprocessing\n",
    "1. Checking for Null Values\n",
    "2. Correlated Feature Check\n",
    "3. Data Molding (Encoding)\n",
    "4. Splitting the Data\n",
    "5. Impute Missing Values\n",
    "6. Data Standardization (Feature Scaling)\n",
    "7. Label Encoding\n",
    "8. One-Hot Encoding"
   ]
  },
  {
   "cell_type": "code",
   "execution_count": 23,
   "metadata": {},
   "outputs": [
    {
     "data": {
      "text/html": [
       "<div>\n",
       "<style scoped>\n",
       "    .dataframe tbody tr th:only-of-type {\n",
       "        vertical-align: middle;\n",
       "    }\n",
       "\n",
       "    .dataframe tbody tr th {\n",
       "        vertical-align: top;\n",
       "    }\n",
       "\n",
       "    .dataframe thead th {\n",
       "        text-align: right;\n",
       "    }\n",
       "</style>\n",
       "<table border=\"1\" class=\"dataframe\">\n",
       "  <thead>\n",
       "    <tr style=\"text-align: right;\">\n",
       "      <th></th>\n",
       "      <th>Precentral_gyrus_L_1</th>\n",
       "      <th>Precentral_gyrus_R_1</th>\n",
       "      <th>Precentral_gyrus_1</th>\n",
       "    </tr>\n",
       "  </thead>\n",
       "  <tbody>\n",
       "    <tr>\n",
       "      <th>0</th>\n",
       "      <td>-0.046045</td>\n",
       "      <td>-0.048815</td>\n",
       "      <td>-0.008641</td>\n",
       "    </tr>\n",
       "    <tr>\n",
       "      <th>1</th>\n",
       "      <td>0.005564</td>\n",
       "      <td>0.010136</td>\n",
       "      <td>-0.005523</td>\n",
       "    </tr>\n",
       "    <tr>\n",
       "      <th>2</th>\n",
       "      <td>0.055217</td>\n",
       "      <td>0.061791</td>\n",
       "      <td>0.003147</td>\n",
       "    </tr>\n",
       "    <tr>\n",
       "      <th>3</th>\n",
       "      <td>0.050261</td>\n",
       "      <td>0.045803</td>\n",
       "      <td>0.014724</td>\n",
       "    </tr>\n",
       "    <tr>\n",
       "      <th>4</th>\n",
       "      <td>-0.007147</td>\n",
       "      <td>-0.024628</td>\n",
       "      <td>0.017772</td>\n",
       "    </tr>\n",
       "    <tr>\n",
       "      <th>5</th>\n",
       "      <td>-0.061167</td>\n",
       "      <td>-0.072601</td>\n",
       "      <td>0.000651</td>\n",
       "    </tr>\n",
       "    <tr>\n",
       "      <th>6</th>\n",
       "      <td>-0.057450</td>\n",
       "      <td>-0.037271</td>\n",
       "      <td>-0.033859</td>\n",
       "    </tr>\n",
       "    <tr>\n",
       "      <th>7</th>\n",
       "      <td>0.002722</td>\n",
       "      <td>0.058145</td>\n",
       "      <td>-0.064144</td>\n",
       "    </tr>\n",
       "    <tr>\n",
       "      <th>8</th>\n",
       "      <td>0.062950</td>\n",
       "      <td>0.122115</td>\n",
       "      <td>-0.064207</td>\n",
       "    </tr>\n",
       "    <tr>\n",
       "      <th>9</th>\n",
       "      <td>0.065837</td>\n",
       "      <td>0.081982</td>\n",
       "      <td>-0.026540</td>\n",
       "    </tr>\n",
       "  </tbody>\n",
       "</table>\n",
       "</div>"
      ],
      "text/plain": [
       "   Precentral_gyrus_L_1  Precentral_gyrus_R_1  Precentral_gyrus_1\n",
       "0             -0.046045             -0.048815           -0.008641\n",
       "1              0.005564              0.010136           -0.005523\n",
       "2              0.055217              0.061791            0.003147\n",
       "3              0.050261              0.045803            0.014724\n",
       "4             -0.007147             -0.024628            0.017772\n",
       "5             -0.061167             -0.072601            0.000651\n",
       "6             -0.057450             -0.037271           -0.033859\n",
       "7              0.002722              0.058145           -0.064144\n",
       "8              0.062950              0.122115           -0.064207\n",
       "9              0.065837              0.081982           -0.026540"
      ]
     },
     "execution_count": 23,
     "metadata": {},
     "output_type": "execute_result"
    }
   ],
   "source": [
    "import pandas as pd                 # pandas is a dataframe library\n",
    "import matplotlib.pyplot as plt      # matplotlib.pyplot plots data\n",
    "\n",
    "%matplotlib inline\n",
    "#Loading and Reviewing the Data\n",
    "df = pd.read_csv(\"C:\\\\Users\\\\HP\\\\Desktop\\\\time series data\\\\indexanita_DataFrame.csv\")\n",
    "#print(df.shape)\n",
    "df.head(10)"
   ]
  },
  {
   "cell_type": "markdown",
   "metadata": {},
   "source": [
    "Check for null values"
   ]
  },
  {
   "cell_type": "code",
   "execution_count": 24,
   "metadata": {},
   "outputs": [
    {
     "data": {
      "text/plain": [
       "False"
      ]
     },
     "execution_count": 24,
     "metadata": {},
     "output_type": "execute_result"
    }
   ],
   "source": [
    "df.isnull().values.any()"
   ]
  },
  {
   "cell_type": "markdown",
   "metadata": {},
   "source": [
    "# Correlated Feature Check\n",
    "Helper function that displays correlation by color"
   ]
  },
  {
   "cell_type": "code",
   "execution_count": 25,
   "metadata": {},
   "outputs": [
    {
     "data": {
      "image/png": "[encoded data removed]",
      "text/plain": [
       "<Figure size 792x792 with 1 Axes>"
      ]
     },
     "metadata": {},
     "output_type": "display_data"
    }
   ],
   "source": [
    "def plot_corr(df, size=11):\n",
    "    \"\"\"\n",
    "    Function plots a graphical correlation matrix for each pair of columns in the dataframe.\n",
    "\n",
    "    Input:\n",
    "        df: pandas DataFrame\n",
    "        size: vertical and horizontal size of the plot\n",
    "\n",
    "    Displays:\n",
    "        matrix of correlation between columns.\n",
    "    \"\"\"\n",
    "\n",
    "    corr = df.corr()    # data frame correlation function\n",
    "    fig, ax = plt.subplots(figsize=(size, size))#The subplots command in the background will call plt.figure(), and any keywords will be passed along\n",
    "    ax.matshow(corr)   # heatmap with matshow, color code the rectangles by correlation value\n",
    "    plt.xticks(range(len(corr.columns)), corr.columns)  # draw x tick marks\n",
    "    plt.yticks(range(len(corr.columns)), corr.columns)  # draw y tick marks\n",
    "    \n",
    "plot_corr(df)\n"
   ]
  },
  {
   "cell_type": "code",
   "execution_count": 26,
   "metadata": {},
   "outputs": [
    {
     "data": {
      "text/html": [
       "<div>\n",
       "<style scoped>\n",
       "    .dataframe tbody tr th:only-of-type {\n",
       "        vertical-align: middle;\n",
       "    }\n",
       "\n",
       "    .dataframe tbody tr th {\n",
       "        vertical-align: top;\n",
       "    }\n",
       "\n",
       "    .dataframe thead th {\n",
       "        text-align: right;\n",
       "    }\n",
       "</style>\n",
       "<table border=\"1\" class=\"dataframe\">\n",
       "  <thead>\n",
       "    <tr style=\"text-align: right;\">\n",
       "      <th></th>\n",
       "      <th>Precentral_gyrus_L_1</th>\n",
       "      <th>Precentral_gyrus_R_1</th>\n",
       "      <th>Precentral_gyrus_1</th>\n",
       "    </tr>\n",
       "  </thead>\n",
       "  <tbody>\n",
       "    <tr>\n",
       "      <th>Precentral_gyrus_L_1</th>\n",
       "      <td>1.000000</td>\n",
       "      <td>0.938185</td>\n",
       "      <td>0.020681</td>\n",
       "    </tr>\n",
       "    <tr>\n",
       "      <th>Precentral_gyrus_R_1</th>\n",
       "      <td>0.938185</td>\n",
       "      <td>1.000000</td>\n",
       "      <td>-0.106880</td>\n",
       "    </tr>\n",
       "    <tr>\n",
       "      <th>Precentral_gyrus_1</th>\n",
       "      <td>0.020681</td>\n",
       "      <td>-0.106880</td>\n",
       "      <td>1.000000</td>\n",
       "    </tr>\n",
       "  </tbody>\n",
       "</table>\n",
       "</div>"
      ],
      "text/plain": [
       "                      Precentral_gyrus_L_1  Precentral_gyrus_R_1  \\\n",
       "Precentral_gyrus_L_1              1.000000              0.938185   \n",
       "Precentral_gyrus_R_1              0.938185              1.000000   \n",
       "Precentral_gyrus_1                0.020681             -0.106880   \n",
       "\n",
       "                      Precentral_gyrus_1  \n",
       "Precentral_gyrus_L_1            0.020681  \n",
       "Precentral_gyrus_R_1           -0.106880  \n",
       "Precentral_gyrus_1              1.000000  "
      ]
     },
     "execution_count": 26,
     "metadata": {},
     "output_type": "execute_result"
    }
   ],
   "source": [
    "df.corr()"
   ]
  },
  {
   "cell_type": "code",
   "execution_count": 27,
   "metadata": {},
   "outputs": [
    {
     "data": {
      "text/html": [
       "<div>\n",
       "<style scoped>\n",
       "    .dataframe tbody tr th:only-of-type {\n",
       "        vertical-align: middle;\n",
       "    }\n",
       "\n",
       "    .dataframe tbody tr th {\n",
       "        vertical-align: top;\n",
       "    }\n",
       "\n",
       "    .dataframe thead th {\n",
       "        text-align: right;\n",
       "    }\n",
       "</style>\n",
       "<table border=\"1\" class=\"dataframe\">\n",
       "  <thead>\n",
       "    <tr style=\"text-align: right;\">\n",
       "      <th></th>\n",
       "      <th>Precentral_gyrus_L_1</th>\n",
       "      <th>Precentral_gyrus_R_1</th>\n",
       "      <th>Precentral_gyrus_1</th>\n",
       "    </tr>\n",
       "  </thead>\n",
       "  <tbody>\n",
       "    <tr>\n",
       "      <th>0</th>\n",
       "      <td>-0.046045</td>\n",
       "      <td>-0.048815</td>\n",
       "      <td>-0.008641</td>\n",
       "    </tr>\n",
       "    <tr>\n",
       "      <th>1</th>\n",
       "      <td>0.005564</td>\n",
       "      <td>0.010136</td>\n",
       "      <td>-0.005523</td>\n",
       "    </tr>\n",
       "    <tr>\n",
       "      <th>2</th>\n",
       "      <td>0.055217</td>\n",
       "      <td>0.061791</td>\n",
       "      <td>0.003147</td>\n",
       "    </tr>\n",
       "    <tr>\n",
       "      <th>3</th>\n",
       "      <td>0.050261</td>\n",
       "      <td>0.045803</td>\n",
       "      <td>0.014724</td>\n",
       "    </tr>\n",
       "    <tr>\n",
       "      <th>4</th>\n",
       "      <td>-0.007147</td>\n",
       "      <td>-0.024628</td>\n",
       "      <td>0.017772</td>\n",
       "    </tr>\n",
       "  </tbody>\n",
       "</table>\n",
       "</div>"
      ],
      "text/plain": [
       "   Precentral_gyrus_L_1  Precentral_gyrus_R_1  Precentral_gyrus_1\n",
       "0             -0.046045             -0.048815           -0.008641\n",
       "1              0.005564              0.010136           -0.005523\n",
       "2              0.055217              0.061791            0.003147\n",
       "3              0.050261              0.045803            0.014724\n",
       "4             -0.007147             -0.024628            0.017772"
      ]
     },
     "execution_count": 27,
     "metadata": {},
     "output_type": "execute_result"
    }
   ],
   "source": [
    "df.head()"
   ]
  },
  {
   "cell_type": "markdown",
   "metadata": {},
   "source": [
    "The skin and thickness columns are correlated 1 to 1. Dropping the skin column"
   ]
  },
  {
   "cell_type": "code",
   "execution_count": null,
   "metadata": {},
   "outputs": [],
   "source": []
  },
  {
   "cell_type": "markdown",
   "metadata": {},
   "source": [
    "Check for additional correlations"
   ]
  },
  {
   "cell_type": "code",
   "execution_count": 28,
   "metadata": {},
   "outputs": [
    {
     "data": {
      "image/png": "[encoded data removed]",
      "text/plain": [
       "<Figure size 792x792 with 1 Axes>"
      ]
     },
     "metadata": {},
     "output_type": "display_data"
    }
   ],
   "source": [
    "plot_corr(df)"
   ]
  },
  {
   "cell_type": "markdown",
   "metadata": {},
   "source": [
    "\n"
   ]
  },
  {
   "cell_type": "markdown",
   "metadata": {},
   "source": [
    "# Data Molding(Encoding)\n",
    "1. Adjusting Data Types - Inspect data types to see if there are any issues. Data should be numeric.\n",
    "2. If required create new columns\n"
   ]
  },
  {
   "cell_type": "code",
   "execution_count": null,
   "metadata": {},
   "outputs": [],
   "source": []
  },
  {
   "cell_type": "markdown",
   "metadata": {},
   "source": [
    "# Splitting the Data\n",
    "* Less training data -> your parameter estimates have greater variance\n",
    "* Less testing data -> your performance statistic will have greater variance\n",
    "\n",
    "### Divide data such that neither variance is too high\n",
    "\n",
    "* Less data -> chances of no satisfactory variance\n",
    "* More data -> split doesn't really matter\n",
    "\n",
    "X = feature, independent, predictor\n",
    "Y = predicted, dependent\n"
   ]
  },
  {
   "cell_type": "markdown",
   "metadata": {},
   "source": [
    "Spliting the data¶\n",
    "\n",
    "70% for training, 30% for testing\n"
   ]
  },
  {
   "cell_type": "code",
   "execution_count": 39,
   "metadata": {},
   "outputs": [
    {
     "name": "stdout",
     "output_type": "stream",
     "text": [
      "70.00% in training set\n",
      "30.00% in test set\n"
     ]
    }
   ],
   "source": [
    "from sklearn.model_selection import train_test_split\n",
    "\n",
    "feature_col_names = ['Precentral_gyrus_L_1', 'Precentral_gyrus_R_1']\n",
    "predicted_class_names = ['Precentral_gyrus_1']\n",
    "\n",
    "X = df[feature_col_names].values     # predictor feature columns (8 X m)\n",
    "y = df[predicted_class_names].values # predicted class (1=true, 0=false) column (1 X m)\n",
    "split_test_size = 0.30\n",
    "\n",
    "X_train, X_test, y_train, y_test = train_test_split(X, y, test_size=split_test_size, random_state=42) \n",
    "                            # test_size = 0.3 is 30%, 42 is the answer to everything\n",
    "#We check to ensure we have the the desired 70% train, 30% test split of the data\n",
    "print(\"{0:0.2f}% in training set\".format((float(len(X_train))/float(len(df.index)))*100))\n",
    "print(\"{0:0.2f}% in test set\".format((float(len(X_test))/float(len(df.index)))*100))"
   ]
  },
  {
   "cell_type": "markdown",
   "metadata": {},
   "source": [
    "# Impute Missing Values\n",
    "\n",
    "## Missing Data\n",
    "1. Ignore\n",
    "2. Drop rows\n",
    "3. Replace values (Impute)"
   ]
  },
  {
   "cell_type": "code",
   "execution_count": 40,
   "metadata": {},
   "outputs": [
    {
     "ename": "NameError",
     "evalue": "name 'knn' is not defined",
     "output_type": "error",
     "traceback": [
      "\u001b[1;31m---------------------------------------------------------------------------\u001b[0m",
      "\u001b[1;31mNameError\u001b[0m                                 Traceback (most recent call last)",
      "\u001b[1;32m<ipython-input-40-449671f4e695>\u001b[0m in \u001b[0;36m<module>\u001b[1;34m()\u001b[0m\n\u001b[0;32m      1\u001b[0m \u001b[1;31m# Test accuracy of the model\u001b[0m\u001b[1;33m\u001b[0m\u001b[1;33m\u001b[0m\u001b[0m\n\u001b[1;32m----> 2\u001b[1;33m \u001b[0mknn\u001b[0m\u001b[1;33m.\u001b[0m\u001b[0mscore\u001b[0m\u001b[1;33m(\u001b[0m\u001b[0mX_test\u001b[0m\u001b[1;33m,\u001b[0m \u001b[0my_test\u001b[0m\u001b[1;33m)\u001b[0m\u001b[1;33m\u001b[0m\u001b[0m\n\u001b[0m",
      "\u001b[1;31mNameError\u001b[0m: name 'knn' is not defined"
     ]
    }
   ],
   "source": []
  },
  {
   "cell_type": "code",
   "execution_count": null,
   "metadata": {},
   "outputs": [],
   "source": [
    "\n"
   ]
  },
  {
   "cell_type": "markdown",
   "metadata": {},
   "source": [
    "# Data Standardization (Feature Scaling)\n",
    "\n",
    "Data standardization is the process of rescaling one or more attributes so that they have a mean value of 0 and a standard deviation of 1. Standardization assumes that your data has a Gaussian (bell curve) distribution.  \n",
    "\n",
    "Apply scaling on the test scores to express them in terms of z-score  \n",
    "Z-score is the expression of a value in terms of the number of standard deviations from the mean  \n",
    "The effect is to give a score which is relative to the the distribution of values for that column  \n",
    "\n",
    "z = $\\frac {(x – μ)}{\\sigma}$"
   ]
  },
  {
   "cell_type": "code",
   "execution_count": 30,
   "metadata": {},
   "outputs": [
    {
     "data": {
      "text/html": [
       "<div>\n",
       "<style scoped>\n",
       "    .dataframe tbody tr th:only-of-type {\n",
       "        vertical-align: middle;\n",
       "    }\n",
       "\n",
       "    .dataframe tbody tr th {\n",
       "        vertical-align: top;\n",
       "    }\n",
       "\n",
       "    .dataframe thead th {\n",
       "        text-align: right;\n",
       "    }\n",
       "</style>\n",
       "<table border=\"1\" class=\"dataframe\">\n",
       "  <thead>\n",
       "    <tr style=\"text-align: right;\">\n",
       "      <th></th>\n",
       "      <th>Precentral_gyrus_L_1</th>\n",
       "      <th>Precentral_gyrus_R_1</th>\n",
       "      <th>Precentral_gyrus_1</th>\n",
       "    </tr>\n",
       "  </thead>\n",
       "  <tbody>\n",
       "    <tr>\n",
       "      <th>0</th>\n",
       "      <td>-0.046045</td>\n",
       "      <td>-0.048815</td>\n",
       "      <td>-0.008641</td>\n",
       "    </tr>\n",
       "    <tr>\n",
       "      <th>1</th>\n",
       "      <td>0.005564</td>\n",
       "      <td>0.010136</td>\n",
       "      <td>-0.005523</td>\n",
       "    </tr>\n",
       "    <tr>\n",
       "      <th>2</th>\n",
       "      <td>0.055217</td>\n",
       "      <td>0.061791</td>\n",
       "      <td>0.003147</td>\n",
       "    </tr>\n",
       "    <tr>\n",
       "      <th>3</th>\n",
       "      <td>0.050261</td>\n",
       "      <td>0.045803</td>\n",
       "      <td>0.014724</td>\n",
       "    </tr>\n",
       "    <tr>\n",
       "      <th>4</th>\n",
       "      <td>-0.007147</td>\n",
       "      <td>-0.024628</td>\n",
       "      <td>0.017772</td>\n",
       "    </tr>\n",
       "  </tbody>\n",
       "</table>\n",
       "</div>"
      ],
      "text/plain": [
       "   Precentral_gyrus_L_1  Precentral_gyrus_R_1  Precentral_gyrus_1\n",
       "0             -0.046045             -0.048815           -0.008641\n",
       "1              0.005564              0.010136           -0.005523\n",
       "2              0.055217              0.061791            0.003147\n",
       "3              0.050261              0.045803            0.014724\n",
       "4             -0.007147             -0.024628            0.017772"
      ]
     },
     "execution_count": 30,
     "metadata": {},
     "output_type": "execute_result"
    }
   ],
   "source": [
    "import pandas as pd\n",
    "exam_data = pd.read_csv('C:\\\\Users\\\\HP\\\\Desktop\\\\time series data\\\\indexanita_DataFrame.csv', quotechar='\"')\n",
    "exam_data.head(5)"
   ]
  },
  {
   "cell_type": "code",
   "execution_count": 31,
   "metadata": {},
   "outputs": [
    {
     "data": {
      "text/html": [
       "<div>\n",
       "<style scoped>\n",
       "    .dataframe tbody tr th:only-of-type {\n",
       "        vertical-align: middle;\n",
       "    }\n",
       "\n",
       "    .dataframe tbody tr th {\n",
       "        vertical-align: top;\n",
       "    }\n",
       "\n",
       "    .dataframe thead th {\n",
       "        text-align: right;\n",
       "    }\n",
       "</style>\n",
       "<table border=\"1\" class=\"dataframe\">\n",
       "  <thead>\n",
       "    <tr style=\"text-align: right;\">\n",
       "      <th></th>\n",
       "      <th>Precentral_gyrus_L_1</th>\n",
       "      <th>Precentral_gyrus_R_1</th>\n",
       "      <th>Precentral_gyrus_1</th>\n",
       "    </tr>\n",
       "  </thead>\n",
       "  <tbody>\n",
       "    <tr>\n",
       "      <th>0</th>\n",
       "      <td>-0.046045</td>\n",
       "      <td>-0.048815</td>\n",
       "      <td>-0.008641</td>\n",
       "    </tr>\n",
       "    <tr>\n",
       "      <th>1</th>\n",
       "      <td>0.005564</td>\n",
       "      <td>0.010136</td>\n",
       "      <td>-0.005523</td>\n",
       "    </tr>\n",
       "    <tr>\n",
       "      <th>2</th>\n",
       "      <td>0.055217</td>\n",
       "      <td>0.061791</td>\n",
       "      <td>0.003147</td>\n",
       "    </tr>\n",
       "    <tr>\n",
       "      <th>3</th>\n",
       "      <td>0.050261</td>\n",
       "      <td>0.045803</td>\n",
       "      <td>0.014724</td>\n",
       "    </tr>\n",
       "    <tr>\n",
       "      <th>4</th>\n",
       "      <td>-0.007147</td>\n",
       "      <td>-0.024628</td>\n",
       "      <td>0.017772</td>\n",
       "    </tr>\n",
       "  </tbody>\n",
       "</table>\n",
       "</div>"
      ],
      "text/plain": [
       "   Precentral_gyrus_L_1  Precentral_gyrus_R_1  Precentral_gyrus_1\n",
       "0             -0.046045             -0.048815           -0.008641\n",
       "1              0.005564              0.010136           -0.005523\n",
       "2              0.055217              0.061791            0.003147\n",
       "3              0.050261              0.045803            0.014724\n",
       "4             -0.007147             -0.024628            0.017772"
      ]
     },
     "execution_count": 31,
     "metadata": {},
     "output_type": "execute_result"
    }
   ],
   "source": [
    "from sklearn import preprocessing\n",
    "\n",
    "exam_data[['Precentral_gyrus_L_1']] = exam_data[['Precentral_gyrus_L_1']].astype(float)\n",
    "exam_data[['Precentral_gyrus_R_1']] = exam_data[['Precentral_gyrus_R_1']].astype(float)\n",
    "exam_data[['Precentral_gyrus_1']] = exam_data[['Precentral_gyrus_1']].astype(float)\n",
    "exam_data.head(5)"
   ]
  },
  {
   "cell_type": "code",
   "execution_count": 32,
   "metadata": {},
   "outputs": [
    {
     "data": {
      "text/plain": [
       "<matplotlib.axes._subplots.AxesSubplot at 0x25b1d098be0>"
      ]
     },
     "execution_count": 32,
     "metadata": {},
     "output_type": "execute_result"
    },
    {
     "data": {
      "image/png": "[encoded data removed]",
      "text/plain": [
       "<Figure size 432x288 with 1 Axes>"
      ]
     },
     "metadata": {},
     "output_type": "display_data"
    }
   ],
   "source": [
    "df_plot = exam_data[['Precentral_gyrus_L_1', 'Precentral_gyrus_R_1', 'Precentral_gyrus_1']].copy()\n",
    "df_plot.plot.kde()"
   ]
  },
  {
   "cell_type": "markdown",
   "metadata": {},
   "source": [
    "### Label Encoding:\n",
    "Convert text values to numbers. These can be used in the following situations:\n",
    "* There are only two values for a column in your data. The values will then become 0/1 - effectively a binary representation\n",
    "* The values have relationship with each other where comparisons are meaningful (e.g. low<medium<high)"
   ]
  },
  {
   "cell_type": "code",
   "execution_count": 33,
   "metadata": {},
   "outputs": [
    {
     "data": {
      "text/html": [
       "<div>\n",
       "<style scoped>\n",
       "    .dataframe tbody tr th:only-of-type {\n",
       "        vertical-align: middle;\n",
       "    }\n",
       "\n",
       "    .dataframe tbody tr th {\n",
       "        vertical-align: top;\n",
       "    }\n",
       "\n",
       "    .dataframe thead th {\n",
       "        text-align: right;\n",
       "    }\n",
       "</style>\n",
       "<table border=\"1\" class=\"dataframe\">\n",
       "  <thead>\n",
       "    <tr style=\"text-align: right;\">\n",
       "      <th></th>\n",
       "      <th>Precentral_gyrus_L_1</th>\n",
       "      <th>Precentral_gyrus_R_1</th>\n",
       "      <th>Precentral_gyrus_1</th>\n",
       "    </tr>\n",
       "  </thead>\n",
       "  <tbody>\n",
       "    <tr>\n",
       "      <th>0</th>\n",
       "      <td>75</td>\n",
       "      <td>-0.048815</td>\n",
       "      <td>-0.008641</td>\n",
       "    </tr>\n",
       "    <tr>\n",
       "      <th>1</th>\n",
       "      <td>116</td>\n",
       "      <td>0.010136</td>\n",
       "      <td>-0.005523</td>\n",
       "    </tr>\n",
       "    <tr>\n",
       "      <th>2</th>\n",
       "      <td>164</td>\n",
       "      <td>0.061791</td>\n",
       "      <td>0.003147</td>\n",
       "    </tr>\n",
       "    <tr>\n",
       "      <th>3</th>\n",
       "      <td>163</td>\n",
       "      <td>0.045803</td>\n",
       "      <td>0.014724</td>\n",
       "    </tr>\n",
       "    <tr>\n",
       "      <th>4</th>\n",
       "      <td>25</td>\n",
       "      <td>-0.024628</td>\n",
       "      <td>0.017772</td>\n",
       "    </tr>\n",
       "  </tbody>\n",
       "</table>\n",
       "</div>"
      ],
      "text/plain": [
       "   Precentral_gyrus_L_1  Precentral_gyrus_R_1  Precentral_gyrus_1\n",
       "0                    75             -0.048815           -0.008641\n",
       "1                   116              0.010136           -0.005523\n",
       "2                   164              0.061791            0.003147\n",
       "3                   163              0.045803            0.014724\n",
       "4                    25             -0.024628            0.017772"
      ]
     },
     "execution_count": 33,
     "metadata": {},
     "output_type": "execute_result"
    }
   ],
   "source": [
    "le = preprocessing.LabelEncoder()\n",
    "exam_data['Precentral_gyrus_L_1'] = le.fit_transform(exam_data['Precentral_gyrus_L_1'].astype(str))\n",
    "exam_data.head()"
   ]
  },
  {
   "cell_type": "code",
   "execution_count": 34,
   "metadata": {},
   "outputs": [
    {
     "name": "stdout",
     "output_type": "stream",
     "text": [
      "['-0.0005835077997816957' '-0.0006320716088912961'\n",
      " '-0.0009772796314053485' '-0.001409158042991078' '-0.001626406133051011'\n",
      " '-0.002351821581208929' '-0.002753920291342892' '-0.0028920162922543725'\n",
      " '-0.0029882478412745703' '-0.003172554992072237' '-0.0032060247307020423'\n",
      " '-0.003210815491444781' '-0.0037702588602257455' '-0.003855608283588093'\n",
      " '-0.0042992018869020465' '-0.004342739355112194' '-0.00443773668913183'\n",
      " '-0.005233338174239179' '-0.005676405455433947' '-0.006113824859385723'\n",
      " '-0.006223293353860907' '-0.006388786951426346' '-0.007018750700091882'\n",
      " '-0.00704275880642013' '-0.007051564710606704' '-0.007146574012690987'\n",
      " '-0.007209747633732269' '-0.007461161394050012' '-0.00747999678459322'\n",
      " '-0.0076127366286107235' '-0.007980474259341334' '-0.008194001620178195'\n",
      " '-0.008516026819376219' '-0.008820066566873539' '-0.008856963132250656'\n",
      " '-0.00894044583088768' '-0.009007662769483992' '-0.009658324633087393'\n",
      " '-0.009726722402971602' '-0.00982782936452764' '-0.010301279750575092'\n",
      " '-0.010559284135900508' '-0.011535483680386595' '-0.011602564001558305'\n",
      " '-0.011769089362885343' '-0.011876997081504085' '-0.012002318516332'\n",
      " '-0.012114833465719071' '-0.012439094174798257' '-0.012439364851778672'\n",
      " '-0.013697321316988736' '-0.013762295931518915' '-0.013763738248067436'\n",
      " '-0.013791448674364628' '-0.0140304553058802' '-0.01580019155787593'\n",
      " '-0.016748014722608482' '-0.018866356408388057' '-0.019213165245344804'\n",
      " '-0.020636202671734646' '-0.020778935964962192' '-0.02094705021567141'\n",
      " '-0.022993066594960827' '-0.02449561153780268' '-0.025975010530462424'\n",
      " '-0.0270658445865844' '-0.028969345400434183' '-0.030247459909910998'\n",
      " '-0.03051597826803262' '-0.031675588010081746' '-0.0364030511432767'\n",
      " '-0.03664573733926374' '-0.04080517944236158' '-0.044414513710018005'\n",
      " '-0.044713362200537725' '-0.046045190096843935' '-0.05744998573487025'\n",
      " '-0.061166627643054625' '-0.06117170289108448' '-0.06252995735850274'\n",
      " '-0.06478419028313613' '-0.07167793521823113' '-0.08140525806641973'\n",
      " '-0.09857197499003148' '-0.10825672119863408' '-0.11634524719578572'\n",
      " '-0.1340027232849192' '-0.1355509796432051' '-0.13856605733092384'\n",
      " '-0.16308565571993205' '0.00025538637877445437' '0.000316887407327826'\n",
      " '0.00032105273205692436' '0.0008345722068944955' '0.0009045239926857217'\n",
      " '0.0009051761437358171' '0.001063512590743196' '0.0012196166672411913'\n",
      " '0.0018342188814025235' '0.00197504967632298' '0.0021496538315948074'\n",
      " '0.0023300309210604712' '0.0027222142458999178' '0.0029044054543736647'\n",
      " '0.0030035031468199783' '0.003026319258304623' '0.0030843774252224017'\n",
      " '0.0031180771831613337' '0.0031888983407820787' '0.0033800063428181693'\n",
      " '0.004102336000502868' '0.004447560671354647' '0.004990244752122525'\n",
      " '0.0050484986917829116' '0.0052094218169589325' '0.005484848957705493'\n",
      " '0.005563963401702182' '0.00587504643170349' '0.006113193609575059'\n",
      " '0.006424848285184832' '0.006753852838701297' '0.006783118520432987'\n",
      " '0.006844520661516718' '0.006981890617885078' '0.00725768515158791'\n",
      " '0.007673026161191728' '0.007965273009018458' '0.007989263848883314'\n",
      " '0.00813917842153725' '0.00825891578856387' '0.008423468464300731'\n",
      " '0.008603908871071864' '0.008872453559759495' '0.009057989357024615'\n",
      " '0.009281772889798513' '0.011362938320998684' '0.01164036645690933'\n",
      " '0.012356230406187812' '0.013282006967993422' '0.013392189261482158'\n",
      " '0.01349689176137542' '0.014800996146216229' '0.01597708069663661'\n",
      " '0.016188734279286913' '0.02055417058085584' '0.020761584299119985'\n",
      " '0.02085305131922591' '0.021014094816368376' '0.02143754669228481'\n",
      " '0.02157332281122335' '0.021577277627810944' '0.021984149498824632'\n",
      " '0.023014265911384103' '0.02395010906154549' '0.02765819962494248'\n",
      " '0.02878689920527159' '0.030892175896023687' '0.03194106646781096'\n",
      " '0.03380602246581717' '0.035776212898894016' '0.03768019035165215'\n",
      " '0.04331365171396618' '0.049264968568614766' '0.05026109692069445'\n",
      " '0.055217099626951545' '0.05536530374421884' '0.05744773963405055'\n",
      " '0.058443656210276' '0.06295019123653782' '0.06583728771114236'\n",
      " '0.07293370914911068' '0.07731123790479014' '0.08789604851664387'\n",
      " '0.10625567704512996' '0.12551638557204706' '0.12844912282687235'\n",
      " '0.14809369606799838' '0.15890232402587773' '0.1879953421641427'\n",
      " '6.190917349287635e-06']\n"
     ]
    }
   ],
   "source": [
    "print(le.classes_)\n"
   ]
  },
  {
   "cell_type": "markdown",
   "metadata": {},
   "source": [
    "### One-Hot Encoding:\n",
    "* Use when there is no meaningful comparison between values in the column\n",
    "* Creates a new column for each unique value for the specified feature in the data set"
   ]
  },
  {
   "cell_type": "code",
   "execution_count": 35,
   "metadata": {},
   "outputs": [
    {
     "data": {
      "text/html": [
       "<div>\n",
       "<style scoped>\n",
       "    .dataframe tbody tr th:only-of-type {\n",
       "        vertical-align: middle;\n",
       "    }\n",
       "\n",
       "    .dataframe tbody tr th {\n",
       "        vertical-align: top;\n",
       "    }\n",
       "\n",
       "    .dataframe thead th {\n",
       "        text-align: right;\n",
       "    }\n",
       "</style>\n",
       "<table border=\"1\" class=\"dataframe\">\n",
       "  <thead>\n",
       "    <tr style=\"text-align: right;\">\n",
       "      <th></th>\n",
       "      <th>Precentral_gyrus_L_1_0</th>\n",
       "      <th>Precentral_gyrus_L_1_1</th>\n",
       "      <th>Precentral_gyrus_L_1_2</th>\n",
       "      <th>Precentral_gyrus_L_1_3</th>\n",
       "      <th>Precentral_gyrus_L_1_4</th>\n",
       "      <th>Precentral_gyrus_L_1_5</th>\n",
       "      <th>Precentral_gyrus_L_1_6</th>\n",
       "      <th>Precentral_gyrus_L_1_7</th>\n",
       "      <th>Precentral_gyrus_L_1_8</th>\n",
       "      <th>Precentral_gyrus_L_1_9</th>\n",
       "      <th>...</th>\n",
       "      <th>Precentral_gyrus_1_0.0214179034001056</th>\n",
       "      <th>Precentral_gyrus_1_0.021925502475970943</th>\n",
       "      <th>Precentral_gyrus_1_0.02453004256641209</th>\n",
       "      <th>Precentral_gyrus_1_0.02800434250750561</th>\n",
       "      <th>Precentral_gyrus_1_0.02973566359630041</th>\n",
       "      <th>Precentral_gyrus_1_0.031653988136585695</th>\n",
       "      <th>Precentral_gyrus_1_0.03470517102221131</th>\n",
       "      <th>Precentral_gyrus_1_0.0439192204215989</th>\n",
       "      <th>Precentral_gyrus_1_0.06233293523732617</th>\n",
       "      <th>Precentral_gyrus_1_0.06467132509410968</th>\n",
       "    </tr>\n",
       "  </thead>\n",
       "  <tbody>\n",
       "    <tr>\n",
       "      <th>0</th>\n",
       "      <td>0</td>\n",
       "      <td>0</td>\n",
       "      <td>0</td>\n",
       "      <td>0</td>\n",
       "      <td>0</td>\n",
       "      <td>0</td>\n",
       "      <td>0</td>\n",
       "      <td>0</td>\n",
       "      <td>0</td>\n",
       "      <td>0</td>\n",
       "      <td>...</td>\n",
       "      <td>0</td>\n",
       "      <td>0</td>\n",
       "      <td>0</td>\n",
       "      <td>0</td>\n",
       "      <td>0</td>\n",
       "      <td>0</td>\n",
       "      <td>0</td>\n",
       "      <td>0</td>\n",
       "      <td>0</td>\n",
       "      <td>0</td>\n",
       "    </tr>\n",
       "    <tr>\n",
       "      <th>1</th>\n",
       "      <td>0</td>\n",
       "      <td>0</td>\n",
       "      <td>0</td>\n",
       "      <td>0</td>\n",
       "      <td>0</td>\n",
       "      <td>0</td>\n",
       "      <td>0</td>\n",
       "      <td>0</td>\n",
       "      <td>0</td>\n",
       "      <td>0</td>\n",
       "      <td>...</td>\n",
       "      <td>0</td>\n",
       "      <td>0</td>\n",
       "      <td>0</td>\n",
       "      <td>0</td>\n",
       "      <td>0</td>\n",
       "      <td>0</td>\n",
       "      <td>0</td>\n",
       "      <td>0</td>\n",
       "      <td>0</td>\n",
       "      <td>0</td>\n",
       "    </tr>\n",
       "    <tr>\n",
       "      <th>2</th>\n",
       "      <td>0</td>\n",
       "      <td>0</td>\n",
       "      <td>0</td>\n",
       "      <td>0</td>\n",
       "      <td>0</td>\n",
       "      <td>0</td>\n",
       "      <td>0</td>\n",
       "      <td>0</td>\n",
       "      <td>0</td>\n",
       "      <td>0</td>\n",
       "      <td>...</td>\n",
       "      <td>0</td>\n",
       "      <td>0</td>\n",
       "      <td>0</td>\n",
       "      <td>0</td>\n",
       "      <td>0</td>\n",
       "      <td>0</td>\n",
       "      <td>0</td>\n",
       "      <td>0</td>\n",
       "      <td>0</td>\n",
       "      <td>0</td>\n",
       "    </tr>\n",
       "    <tr>\n",
       "      <th>3</th>\n",
       "      <td>0</td>\n",
       "      <td>0</td>\n",
       "      <td>0</td>\n",
       "      <td>0</td>\n",
       "      <td>0</td>\n",
       "      <td>0</td>\n",
       "      <td>0</td>\n",
       "      <td>0</td>\n",
       "      <td>0</td>\n",
       "      <td>0</td>\n",
       "      <td>...</td>\n",
       "      <td>0</td>\n",
       "      <td>0</td>\n",
       "      <td>0</td>\n",
       "      <td>0</td>\n",
       "      <td>0</td>\n",
       "      <td>0</td>\n",
       "      <td>0</td>\n",
       "      <td>0</td>\n",
       "      <td>0</td>\n",
       "      <td>0</td>\n",
       "    </tr>\n",
       "    <tr>\n",
       "      <th>4</th>\n",
       "      <td>0</td>\n",
       "      <td>0</td>\n",
       "      <td>0</td>\n",
       "      <td>0</td>\n",
       "      <td>0</td>\n",
       "      <td>0</td>\n",
       "      <td>0</td>\n",
       "      <td>0</td>\n",
       "      <td>0</td>\n",
       "      <td>0</td>\n",
       "      <td>...</td>\n",
       "      <td>0</td>\n",
       "      <td>0</td>\n",
       "      <td>0</td>\n",
       "      <td>0</td>\n",
       "      <td>0</td>\n",
       "      <td>0</td>\n",
       "      <td>0</td>\n",
       "      <td>0</td>\n",
       "      <td>0</td>\n",
       "      <td>0</td>\n",
       "    </tr>\n",
       "  </tbody>\n",
       "</table>\n",
       "<p>5 rows × 540 columns</p>\n",
       "</div>"
      ],
      "text/plain": [
       "   Precentral_gyrus_L_1_0  Precentral_gyrus_L_1_1  Precentral_gyrus_L_1_2  \\\n",
       "0                       0                       0                       0   \n",
       "1                       0                       0                       0   \n",
       "2                       0                       0                       0   \n",
       "3                       0                       0                       0   \n",
       "4                       0                       0                       0   \n",
       "\n",
       "   Precentral_gyrus_L_1_3  Precentral_gyrus_L_1_4  Precentral_gyrus_L_1_5  \\\n",
       "0                       0                       0                       0   \n",
       "1                       0                       0                       0   \n",
       "2                       0                       0                       0   \n",
       "3                       0                       0                       0   \n",
       "4                       0                       0                       0   \n",
       "\n",
       "   Precentral_gyrus_L_1_6  Precentral_gyrus_L_1_7  Precentral_gyrus_L_1_8  \\\n",
       "0                       0                       0                       0   \n",
       "1                       0                       0                       0   \n",
       "2                       0                       0                       0   \n",
       "3                       0                       0                       0   \n",
       "4                       0                       0                       0   \n",
       "\n",
       "   Precentral_gyrus_L_1_9                   ...                    \\\n",
       "0                       0                   ...                     \n",
       "1                       0                   ...                     \n",
       "2                       0                   ...                     \n",
       "3                       0                   ...                     \n",
       "4                       0                   ...                     \n",
       "\n",
       "   Precentral_gyrus_1_0.0214179034001056  \\\n",
       "0                                      0   \n",
       "1                                      0   \n",
       "2                                      0   \n",
       "3                                      0   \n",
       "4                                      0   \n",
       "\n",
       "   Precentral_gyrus_1_0.021925502475970943  \\\n",
       "0                                        0   \n",
       "1                                        0   \n",
       "2                                        0   \n",
       "3                                        0   \n",
       "4                                        0   \n",
       "\n",
       "   Precentral_gyrus_1_0.02453004256641209  \\\n",
       "0                                       0   \n",
       "1                                       0   \n",
       "2                                       0   \n",
       "3                                       0   \n",
       "4                                       0   \n",
       "\n",
       "   Precentral_gyrus_1_0.02800434250750561  \\\n",
       "0                                       0   \n",
       "1                                       0   \n",
       "2                                       0   \n",
       "3                                       0   \n",
       "4                                       0   \n",
       "\n",
       "   Precentral_gyrus_1_0.02973566359630041  \\\n",
       "0                                       0   \n",
       "1                                       0   \n",
       "2                                       0   \n",
       "3                                       0   \n",
       "4                                       0   \n",
       "\n",
       "   Precentral_gyrus_1_0.031653988136585695  \\\n",
       "0                                        0   \n",
       "1                                        0   \n",
       "2                                        0   \n",
       "3                                        0   \n",
       "4                                        0   \n",
       "\n",
       "   Precentral_gyrus_1_0.03470517102221131  \\\n",
       "0                                       0   \n",
       "1                                       0   \n",
       "2                                       0   \n",
       "3                                       0   \n",
       "4                                       0   \n",
       "\n",
       "   Precentral_gyrus_1_0.0439192204215989  \\\n",
       "0                                      0   \n",
       "1                                      0   \n",
       "2                                      0   \n",
       "3                                      0   \n",
       "4                                      0   \n",
       "\n",
       "   Precentral_gyrus_1_0.06233293523732617  \\\n",
       "0                                       0   \n",
       "1                                       0   \n",
       "2                                       0   \n",
       "3                                       0   \n",
       "4                                       0   \n",
       "\n",
       "   Precentral_gyrus_1_0.06467132509410968  \n",
       "0                                       0  \n",
       "1                                       0  \n",
       "2                                       0  \n",
       "3                                       0  \n",
       "4                                       0  \n",
       "\n",
       "[5 rows x 540 columns]"
      ]
     },
     "execution_count": 35,
     "metadata": {},
     "output_type": "execute_result"
    }
   ],
   "source": [
    "exam_data = pd.get_dummies(exam_data, columns=['Precentral_gyrus_L_1','Precentral_gyrus_R_1', 'Precentral_gyrus_1'])\n",
    "exam_data.head(5)"
   ]
  },
  {
   "cell_type": "code",
   "execution_count": 36,
   "metadata": {},
   "outputs": [
    {
     "data": {
      "text/plain": [
       "Index(['Precentral_gyrus_L_1', 'Precentral_gyrus_R_1', 'Precentral_gyrus_1'], dtype='object')"
      ]
     },
     "execution_count": 36,
     "metadata": {},
     "output_type": "execute_result"
    }
   ],
   "source": [
    "df.keys()"
   ]
  },
  {
   "cell_type": "code",
   "execution_count": null,
   "metadata": {},
   "outputs": [],
   "source": []
  },
  {
   "cell_type": "code",
   "execution_count": null,
   "metadata": {},
   "outputs": [],
   "source": []
  },
  {
   "cell_type": "code",
   "execution_count": null,
   "metadata": {},
   "outputs": [],
   "source": []
  }
 ],
 "metadata": {
  "kernelspec": {
   "display_name": "Python 3",
   "language": "python",
   "name": "python3"
  },
  "language_info": {
   "codemirror_mode": {
    "name": "ipython",
    "version": 3
   },
   "file_extension": ".py",
   "mimetype": "text/x-python",
   "name": "python",
   "nbconvert_exporter": "python",
   "pygments_lexer": "ipython3",
   "version": "3.6.5"
  }
 },
 "nbformat": 4,
 "nbformat_minor": 2
}
